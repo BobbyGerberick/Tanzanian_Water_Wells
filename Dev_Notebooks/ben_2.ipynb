{
 "cells": [
  {
   "cell_type": "markdown",
   "metadata": {},
   "source": [
    "# Predictive Modeling: Tanzanian Water Wells\n",
    "\n",
    "## Business Understanding\n",
    "\n",
    "### Overview\n",
    "\n",
    "This project uses data on various water wells in Tanzania and attempts to build a predictive model that can discern between operational and non-operational water wells. The data contains information on each water well such as longitude, latitude, funder, management, pump type, and much more. The Tanzanian government can use this analysis and predictive model in order to decide where to allocate funding for water wells.\n",
    "\n",
    "### Business Problem\n",
    "\n",
    "Tanzania is a developing country with a population of over 57 million people. This country struggles to provide its large population with clean water. However, there are many water wells throughout the country. The Tanzanian government needs a way to predict if these water wells are operational or non-operational. Due to the nature of this problem, predicting a water well is operational when in reality it is not, is more costly than predicting a water well is non-operational when in reality it is. \n",
    "## Data Understanding\n",
    "\n",
    "### Data Sources\n",
    "\n",
    "The data used for this project comes from [DrivenData](https://www.drivendata.org/) and can be downloaded [here](https://www.drivendata.org/competitions/7/pump-it-up-data-mining-the-water-table/page/23/).\n",
    "\n",
    "## Data Preparation\n",
    "\n",
    "### Data Cleaning"
   ]
  },
  {
   "cell_type": "code",
   "execution_count": 142,
   "metadata": {},
   "outputs": [],
   "source": [
    "#Importing everything needed\n",
    "from sklearn.model_selection import cross_validate\n",
    "from sklearn.model_selection import train_test_split\n",
    "from sklearn.tree import DecisionTreeClassifier, plot_tree\n",
    "from missingpy import MissForest\n",
    "import pandas as pd\n",
    "import matplotlib.pyplot as plot\n",
    "import numpy as np\n",
    "import matplotlib.pyplot as plt\n",
    "import seaborn as sns"
   ]
  },
  {
   "cell_type": "code",
   "execution_count": 143,
   "metadata": {},
   "outputs": [],
   "source": [
    "#Loading in the data as DataFrames\n",
    "training_labels = pd.read_csv('../Data/training_set_labels.csv')\n",
    "training_values = pd.read_csv('../Data/training_set_values.csv')"
   ]
  },
  {
   "cell_type": "markdown",
   "metadata": {},
   "source": [
    "### Turning a Ternary Classification Problem into a Binary Classification Problem\n",
    "\n",
    "`status_group` is the target group. As the data is given there are 3 possible values in this column:\n",
    "1. functional\n",
    "2. functional needs repair\n",
    "3. non functional\n",
    "\n",
    "According to the descriptions of these values, 'functional' and 'functional needs repair' are both considered to be operational while 'non functional' is considered non-operational. Therefore, it was decided to group 'functional' and 'functional needs repair' under operational. Leaving 'non functional' on its own and now labeled as non-operational."
   ]
  },
  {
   "cell_type": "code",
   "execution_count": 144,
   "metadata": {},
   "outputs": [
    {
     "data": {
      "text/html": [
       "<div>\n",
       "<style scoped>\n",
       "    .dataframe tbody tr th:only-of-type {\n",
       "        vertical-align: middle;\n",
       "    }\n",
       "\n",
       "    .dataframe tbody tr th {\n",
       "        vertical-align: top;\n",
       "    }\n",
       "\n",
       "    .dataframe thead th {\n",
       "        text-align: right;\n",
       "    }\n",
       "</style>\n",
       "<table border=\"1\" class=\"dataframe\">\n",
       "  <thead>\n",
       "    <tr style=\"text-align: right;\">\n",
       "      <th></th>\n",
       "      <th>id</th>\n",
       "      <th>status_group</th>\n",
       "    </tr>\n",
       "  </thead>\n",
       "  <tbody>\n",
       "    <tr>\n",
       "      <th>0</th>\n",
       "      <td>69572</td>\n",
       "      <td>functional</td>\n",
       "    </tr>\n",
       "    <tr>\n",
       "      <th>1</th>\n",
       "      <td>8776</td>\n",
       "      <td>functional</td>\n",
       "    </tr>\n",
       "    <tr>\n",
       "      <th>2</th>\n",
       "      <td>34310</td>\n",
       "      <td>functional</td>\n",
       "    </tr>\n",
       "    <tr>\n",
       "      <th>3</th>\n",
       "      <td>67743</td>\n",
       "      <td>non functional</td>\n",
       "    </tr>\n",
       "    <tr>\n",
       "      <th>4</th>\n",
       "      <td>19728</td>\n",
       "      <td>functional</td>\n",
       "    </tr>\n",
       "  </tbody>\n",
       "</table>\n",
       "</div>"
      ],
      "text/plain": [
       "      id    status_group\n",
       "0  69572      functional\n",
       "1   8776      functional\n",
       "2  34310      functional\n",
       "3  67743  non functional\n",
       "4  19728      functional"
      ]
     },
     "execution_count": 144,
     "metadata": {},
     "output_type": "execute_result"
    }
   ],
   "source": [
    "training_labels.head()"
   ]
  },
  {
   "cell_type": "code",
   "execution_count": 145,
   "metadata": {},
   "outputs": [],
   "source": [
    "#Changes the values in the 'status_group' column\n",
    "training_labels['status_group'] = training_labels['status_group'].map({\n",
    "                                                                        'non functional': 'non operational', \n",
    "                                                                        'functional': 'operational', \n",
    "                                                                         'functional needs repair': 'operational'})"
   ]
  },
  {
   "cell_type": "markdown",
   "metadata": {},
   "source": [
    "### Merging `training_labels` with `training_values`\n",
    "\n",
    "The data was downloaded in 2 different files. `training_labels` contains a unique identifier and the target column 'status_group'. `training_values` contains a matching unique identifier column along with the rest of the data. The data needs to be merged in order to perform a proper train/test split later."
   ]
  },
  {
   "cell_type": "code",
   "execution_count": 146,
   "metadata": {},
   "outputs": [
    {
     "data": {
      "text/html": [
       "<div>\n",
       "<style scoped>\n",
       "    .dataframe tbody tr th:only-of-type {\n",
       "        vertical-align: middle;\n",
       "    }\n",
       "\n",
       "    .dataframe tbody tr th {\n",
       "        vertical-align: top;\n",
       "    }\n",
       "\n",
       "    .dataframe thead th {\n",
       "        text-align: right;\n",
       "    }\n",
       "</style>\n",
       "<table border=\"1\" class=\"dataframe\">\n",
       "  <thead>\n",
       "    <tr style=\"text-align: right;\">\n",
       "      <th></th>\n",
       "      <th>id</th>\n",
       "      <th>status_group</th>\n",
       "    </tr>\n",
       "  </thead>\n",
       "  <tbody>\n",
       "    <tr>\n",
       "      <th>0</th>\n",
       "      <td>69572</td>\n",
       "      <td>operational</td>\n",
       "    </tr>\n",
       "    <tr>\n",
       "      <th>1</th>\n",
       "      <td>8776</td>\n",
       "      <td>operational</td>\n",
       "    </tr>\n",
       "    <tr>\n",
       "      <th>2</th>\n",
       "      <td>34310</td>\n",
       "      <td>operational</td>\n",
       "    </tr>\n",
       "    <tr>\n",
       "      <th>3</th>\n",
       "      <td>67743</td>\n",
       "      <td>non operational</td>\n",
       "    </tr>\n",
       "    <tr>\n",
       "      <th>4</th>\n",
       "      <td>19728</td>\n",
       "      <td>operational</td>\n",
       "    </tr>\n",
       "  </tbody>\n",
       "</table>\n",
       "</div>"
      ],
      "text/plain": [
       "      id     status_group\n",
       "0  69572      operational\n",
       "1   8776      operational\n",
       "2  34310      operational\n",
       "3  67743  non operational\n",
       "4  19728      operational"
      ]
     },
     "execution_count": 146,
     "metadata": {},
     "output_type": "execute_result"
    }
   ],
   "source": [
    "#Showing a preview of 'training_labels' after the values have been changed\n",
    "training_labels.head()"
   ]
  },
  {
   "cell_type": "code",
   "execution_count": 147,
   "metadata": {},
   "outputs": [
    {
     "data": {
      "text/html": [
       "<div>\n",
       "<style scoped>\n",
       "    .dataframe tbody tr th:only-of-type {\n",
       "        vertical-align: middle;\n",
       "    }\n",
       "\n",
       "    .dataframe tbody tr th {\n",
       "        vertical-align: top;\n",
       "    }\n",
       "\n",
       "    .dataframe thead th {\n",
       "        text-align: right;\n",
       "    }\n",
       "</style>\n",
       "<table border=\"1\" class=\"dataframe\">\n",
       "  <thead>\n",
       "    <tr style=\"text-align: right;\">\n",
       "      <th></th>\n",
       "      <th>id</th>\n",
       "      <th>amount_tsh</th>\n",
       "      <th>date_recorded</th>\n",
       "      <th>funder</th>\n",
       "      <th>gps_height</th>\n",
       "      <th>installer</th>\n",
       "      <th>longitude</th>\n",
       "      <th>latitude</th>\n",
       "      <th>wpt_name</th>\n",
       "      <th>num_private</th>\n",
       "      <th>...</th>\n",
       "      <th>payment_type</th>\n",
       "      <th>water_quality</th>\n",
       "      <th>quality_group</th>\n",
       "      <th>quantity</th>\n",
       "      <th>quantity_group</th>\n",
       "      <th>source</th>\n",
       "      <th>source_type</th>\n",
       "      <th>source_class</th>\n",
       "      <th>waterpoint_type</th>\n",
       "      <th>waterpoint_type_group</th>\n",
       "    </tr>\n",
       "  </thead>\n",
       "  <tbody>\n",
       "    <tr>\n",
       "      <th>0</th>\n",
       "      <td>69572</td>\n",
       "      <td>6000.0</td>\n",
       "      <td>2011-03-14</td>\n",
       "      <td>Roman</td>\n",
       "      <td>1390</td>\n",
       "      <td>Roman</td>\n",
       "      <td>34.938093</td>\n",
       "      <td>-9.856322</td>\n",
       "      <td>none</td>\n",
       "      <td>0</td>\n",
       "      <td>...</td>\n",
       "      <td>annually</td>\n",
       "      <td>soft</td>\n",
       "      <td>good</td>\n",
       "      <td>enough</td>\n",
       "      <td>enough</td>\n",
       "      <td>spring</td>\n",
       "      <td>spring</td>\n",
       "      <td>groundwater</td>\n",
       "      <td>communal standpipe</td>\n",
       "      <td>communal standpipe</td>\n",
       "    </tr>\n",
       "    <tr>\n",
       "      <th>1</th>\n",
       "      <td>8776</td>\n",
       "      <td>0.0</td>\n",
       "      <td>2013-03-06</td>\n",
       "      <td>Grumeti</td>\n",
       "      <td>1399</td>\n",
       "      <td>GRUMETI</td>\n",
       "      <td>34.698766</td>\n",
       "      <td>-2.147466</td>\n",
       "      <td>Zahanati</td>\n",
       "      <td>0</td>\n",
       "      <td>...</td>\n",
       "      <td>never pay</td>\n",
       "      <td>soft</td>\n",
       "      <td>good</td>\n",
       "      <td>insufficient</td>\n",
       "      <td>insufficient</td>\n",
       "      <td>rainwater harvesting</td>\n",
       "      <td>rainwater harvesting</td>\n",
       "      <td>surface</td>\n",
       "      <td>communal standpipe</td>\n",
       "      <td>communal standpipe</td>\n",
       "    </tr>\n",
       "    <tr>\n",
       "      <th>2</th>\n",
       "      <td>34310</td>\n",
       "      <td>25.0</td>\n",
       "      <td>2013-02-25</td>\n",
       "      <td>Lottery Club</td>\n",
       "      <td>686</td>\n",
       "      <td>World vision</td>\n",
       "      <td>37.460664</td>\n",
       "      <td>-3.821329</td>\n",
       "      <td>Kwa Mahundi</td>\n",
       "      <td>0</td>\n",
       "      <td>...</td>\n",
       "      <td>per bucket</td>\n",
       "      <td>soft</td>\n",
       "      <td>good</td>\n",
       "      <td>enough</td>\n",
       "      <td>enough</td>\n",
       "      <td>dam</td>\n",
       "      <td>dam</td>\n",
       "      <td>surface</td>\n",
       "      <td>communal standpipe multiple</td>\n",
       "      <td>communal standpipe</td>\n",
       "    </tr>\n",
       "    <tr>\n",
       "      <th>3</th>\n",
       "      <td>67743</td>\n",
       "      <td>0.0</td>\n",
       "      <td>2013-01-28</td>\n",
       "      <td>Unicef</td>\n",
       "      <td>263</td>\n",
       "      <td>UNICEF</td>\n",
       "      <td>38.486161</td>\n",
       "      <td>-11.155298</td>\n",
       "      <td>Zahanati Ya Nanyumbu</td>\n",
       "      <td>0</td>\n",
       "      <td>...</td>\n",
       "      <td>never pay</td>\n",
       "      <td>soft</td>\n",
       "      <td>good</td>\n",
       "      <td>dry</td>\n",
       "      <td>dry</td>\n",
       "      <td>machine dbh</td>\n",
       "      <td>borehole</td>\n",
       "      <td>groundwater</td>\n",
       "      <td>communal standpipe multiple</td>\n",
       "      <td>communal standpipe</td>\n",
       "    </tr>\n",
       "    <tr>\n",
       "      <th>4</th>\n",
       "      <td>19728</td>\n",
       "      <td>0.0</td>\n",
       "      <td>2011-07-13</td>\n",
       "      <td>Action In A</td>\n",
       "      <td>0</td>\n",
       "      <td>Artisan</td>\n",
       "      <td>31.130847</td>\n",
       "      <td>-1.825359</td>\n",
       "      <td>Shuleni</td>\n",
       "      <td>0</td>\n",
       "      <td>...</td>\n",
       "      <td>never pay</td>\n",
       "      <td>soft</td>\n",
       "      <td>good</td>\n",
       "      <td>seasonal</td>\n",
       "      <td>seasonal</td>\n",
       "      <td>rainwater harvesting</td>\n",
       "      <td>rainwater harvesting</td>\n",
       "      <td>surface</td>\n",
       "      <td>communal standpipe</td>\n",
       "      <td>communal standpipe</td>\n",
       "    </tr>\n",
       "  </tbody>\n",
       "</table>\n",
       "<p>5 rows × 40 columns</p>\n",
       "</div>"
      ],
      "text/plain": [
       "      id  amount_tsh date_recorded        funder  gps_height     installer  \\\n",
       "0  69572      6000.0    2011-03-14         Roman        1390         Roman   \n",
       "1   8776         0.0    2013-03-06       Grumeti        1399       GRUMETI   \n",
       "2  34310        25.0    2013-02-25  Lottery Club         686  World vision   \n",
       "3  67743         0.0    2013-01-28        Unicef         263        UNICEF   \n",
       "4  19728         0.0    2011-07-13   Action In A           0       Artisan   \n",
       "\n",
       "   longitude   latitude              wpt_name  num_private  ... payment_type  \\\n",
       "0  34.938093  -9.856322                  none            0  ...     annually   \n",
       "1  34.698766  -2.147466              Zahanati            0  ...    never pay   \n",
       "2  37.460664  -3.821329           Kwa Mahundi            0  ...   per bucket   \n",
       "3  38.486161 -11.155298  Zahanati Ya Nanyumbu            0  ...    never pay   \n",
       "4  31.130847  -1.825359               Shuleni            0  ...    never pay   \n",
       "\n",
       "  water_quality quality_group      quantity  quantity_group  \\\n",
       "0          soft          good        enough          enough   \n",
       "1          soft          good  insufficient    insufficient   \n",
       "2          soft          good        enough          enough   \n",
       "3          soft          good           dry             dry   \n",
       "4          soft          good      seasonal        seasonal   \n",
       "\n",
       "                 source           source_type  source_class  \\\n",
       "0                spring                spring   groundwater   \n",
       "1  rainwater harvesting  rainwater harvesting       surface   \n",
       "2                   dam                   dam       surface   \n",
       "3           machine dbh              borehole   groundwater   \n",
       "4  rainwater harvesting  rainwater harvesting       surface   \n",
       "\n",
       "               waterpoint_type waterpoint_type_group  \n",
       "0           communal standpipe    communal standpipe  \n",
       "1           communal standpipe    communal standpipe  \n",
       "2  communal standpipe multiple    communal standpipe  \n",
       "3  communal standpipe multiple    communal standpipe  \n",
       "4           communal standpipe    communal standpipe  \n",
       "\n",
       "[5 rows x 40 columns]"
      ]
     },
     "execution_count": 147,
     "metadata": {},
     "output_type": "execute_result"
    }
   ],
   "source": [
    "#Showing a preview of 'training_values'\n",
    "training_values.head()"
   ]
  },
  {
   "cell_type": "code",
   "execution_count": 148,
   "metadata": {},
   "outputs": [],
   "source": [
    "#Merging on the two DataFrames on 'id'\n",
    "df = training_values.merge(training_labels, on='id')"
   ]
  },
  {
   "cell_type": "markdown",
   "metadata": {},
   "source": [
    "### Dropping Unnecessary/Unusable Columns\n",
    "These columns were dropped because they either had too many null values, placeholder values, or was missing information to give the values meaning."
   ]
  },
  {
   "cell_type": "code",
   "execution_count": 149,
   "metadata": {},
   "outputs": [],
   "source": [
    "#Dropping the unique identifier column\n",
    "df.drop(\"id\", axis = 1,inplace=True)"
   ]
  },
  {
   "cell_type": "code",
   "execution_count": 150,
   "metadata": {},
   "outputs": [],
   "source": [
    "#Creating a list of all the columns to drop from the DataFrame\n",
    "columns_to_drop = [\"amount_tsh\", \"num_private\", \"recorded_by\", \"payment_type\", \"extraction_type\", \"extraction_type_group\", \n",
    "                   \"water_quality\", \"quantity_group\", \"scheme_name\"]\n",
    "#Dropping all the columns from the DataFrame using the list above\n",
    "df_small = df.drop(columns_to_drop, axis = 1)"
   ]
  },
  {
   "cell_type": "markdown",
   "metadata": {},
   "source": [
    "### Replacing all Placeholder Values with Null Values\n",
    "\n",
    "There were many columns with placeholder values such as 0 or 'none'. These were replaced with null values in order to be imputed later."
   ]
  },
  {
   "cell_type": "code",
   "execution_count": 151,
   "metadata": {},
   "outputs": [],
   "source": [
    "#Replacing all placeholder values with null values\n",
    "df_small_small = df_small.replace({'none': None,'unknown' : None, -2.00E-08: None, \"0\": None})\n",
    "df_small_small[\"district_code\"].replace({0: None}, inplace=True)\n",
    "df_small_small[\"population\"].replace({0: None}, inplace=True)\n",
    "df_small_small[\"construction_year\"].replace({0: None}, inplace=True)"
   ]
  },
  {
   "cell_type": "markdown",
   "metadata": {},
   "source": [
    "Decided it is not a good idea to impute values for longitude or latitude and there are some null values in the latitude column. It is not a large amount of data lost if theses nulls are removed from the data so they were removed."
   ]
  },
  {
   "cell_type": "code",
   "execution_count": 152,
   "metadata": {},
   "outputs": [
    {
     "data": {
      "text/plain": [
       "1812"
      ]
     },
     "execution_count": 152,
     "metadata": {},
     "output_type": "execute_result"
    }
   ],
   "source": [
    "#Finding the amount of nulls in the latitude column\n",
    "df_small_small['latitude'].isna().sum()"
   ]
  },
  {
   "cell_type": "code",
   "execution_count": 153,
   "metadata": {},
   "outputs": [],
   "source": [
    "#Dropping the nulls from latitude\n",
    "df_small_small.dropna(subset=['latitude'],inplace=True)"
   ]
  },
  {
   "cell_type": "markdown",
   "metadata": {},
   "source": [
    "### Creating copy of DataFrame for Further Cleaning"
   ]
  },
  {
   "cell_type": "code",
   "execution_count": 154,
   "metadata": {},
   "outputs": [],
   "source": [
    "df_smallest = df_small_small.copy()"
   ]
  },
  {
   "cell_type": "markdown",
   "metadata": {},
   "source": [
    "### Reducing Funder"
   ]
  },
  {
   "cell_type": "code",
   "execution_count": 155,
   "metadata": {
    "scrolled": true
   },
   "outputs": [],
   "source": [
    "funder_30 = list(df_small_small['funder'].value_counts().head(30).index)\n",
    "df_smallest = df_smallest[df_smallest['funder'].isin(funder_30)]"
   ]
  },
  {
   "cell_type": "markdown",
   "metadata": {},
   "source": [
    "### Reducing Installer"
   ]
  },
  {
   "cell_type": "code",
   "execution_count": 156,
   "metadata": {},
   "outputs": [],
   "source": [
    "installer_30 = list(df_smallest['installer'].value_counts().head(30).index)\n",
    "df_smallest = df_smallest[df_smallest['installer'].isin(installer_30)]"
   ]
  },
  {
   "cell_type": "markdown",
   "metadata": {},
   "source": [
    "### Dropping wpt_name"
   ]
  },
  {
   "cell_type": "code",
   "execution_count": 157,
   "metadata": {},
   "outputs": [],
   "source": [
    "df_smallest = df_smallest.drop('wpt_name', axis=1)"
   ]
  },
  {
   "cell_type": "markdown",
   "metadata": {},
   "source": [
    "### Basin - Good"
   ]
  },
  {
   "cell_type": "code",
   "execution_count": 158,
   "metadata": {
    "scrolled": true
   },
   "outputs": [
    {
     "data": {
      "text/plain": [
       "Pangani                    4704\n",
       "Lake Victoria              4589\n",
       "Rufiji                     3595\n",
       "Lake Tanganyika            3334\n",
       "Internal                   2538\n",
       "Lake Rukwa                 1760\n",
       "Lake Nyasa                 1760\n",
       "Ruvuma / Southern Coast    1609\n",
       "Wami / Ruvu                1335\n",
       "Name: basin, dtype: int64"
      ]
     },
     "execution_count": 158,
     "metadata": {},
     "output_type": "execute_result"
    }
   ],
   "source": [
    "df_smallest['basin'].value_counts()"
   ]
  },
  {
   "cell_type": "markdown",
   "metadata": {},
   "source": [
    "### Subvillage - drop"
   ]
  },
  {
   "cell_type": "code",
   "execution_count": 159,
   "metadata": {},
   "outputs": [],
   "source": [
    "df_smallest = df_smallest.drop('subvillage', axis=1)"
   ]
  },
  {
   "cell_type": "code",
   "execution_count": 160,
   "metadata": {
    "scrolled": true
   },
   "outputs": [
    {
     "data": {
      "text/plain": [
       "Index(['date_recorded', 'funder', 'gps_height', 'installer', 'longitude',\n",
       "       'latitude', 'basin', 'region', 'region_code', 'district_code', 'lga',\n",
       "       'ward', 'population', 'public_meeting', 'scheme_management', 'permit',\n",
       "       'construction_year', 'extraction_type_class', 'management',\n",
       "       'management_group', 'payment', 'quality_group', 'quantity', 'source',\n",
       "       'source_type', 'source_class', 'waterpoint_type',\n",
       "       'waterpoint_type_group', 'status_group'],\n",
       "      dtype='object')"
      ]
     },
     "execution_count": 160,
     "metadata": {},
     "output_type": "execute_result"
    }
   ],
   "source": [
    "df_smallest.columns"
   ]
  },
  {
   "cell_type": "markdown",
   "metadata": {},
   "source": [
    "### Region - Good"
   ]
  },
  {
   "cell_type": "code",
   "execution_count": 161,
   "metadata": {
    "scrolled": true
   },
   "outputs": [
    {
     "data": {
      "text/plain": [
       "Shinyanga      2575\n",
       "Iringa         2421\n",
       "Kilimanjaro    2188\n",
       "Mbeya          1999\n",
       "Kigoma         1674\n",
       "Ruvuma         1536\n",
       "Kagera         1523\n",
       "Mwanza         1376\n",
       "Arusha         1355\n",
       "Morogoro       1346\n",
       "Tanga          1228\n",
       "Rukwa           945\n",
       "Tabora          907\n",
       "Mara            884\n",
       "Dodoma          789\n",
       "Pwani           783\n",
       "Manyara         496\n",
       "Lindi           463\n",
       "Mtwara          425\n",
       "Singida         311\n",
       "Name: region, dtype: int64"
      ]
     },
     "execution_count": 161,
     "metadata": {},
     "output_type": "execute_result"
    }
   ],
   "source": [
    "df_smallest['region'].value_counts()"
   ]
  },
  {
   "cell_type": "markdown",
   "metadata": {},
   "source": [
    "### region_code -  drop codes 60 and 4"
   ]
  },
  {
   "cell_type": "code",
   "execution_count": 162,
   "metadata": {},
   "outputs": [
    {
     "data": {
      "text/plain": [
       "17    2574\n",
       "11    2422\n",
       "3     2188\n",
       "12    1999\n",
       "16    1674\n",
       "10    1536\n",
       "18    1525\n",
       "19    1376\n",
       "2     1355\n",
       "5     1346\n",
       "4     1228\n",
       "15     945\n",
       "14     907\n",
       "20     884\n",
       "1      789\n",
       "6      538\n",
       "21     496\n",
       "80     454\n",
       "90     416\n",
       "13     311\n",
       "60     245\n",
       "9        9\n",
       "8        7\n",
       "Name: region_code, dtype: int64"
      ]
     },
     "execution_count": 162,
     "metadata": {},
     "output_type": "execute_result"
    }
   ],
   "source": [
    "df_smallest['region_code'].value_counts()"
   ]
  },
  {
   "cell_type": "code",
   "execution_count": 163,
   "metadata": {},
   "outputs": [],
   "source": [
    "df_smallest = df_smallest.loc[~((df_smallest['region_code'] == 8) | (df_smallest['region_code'] == 60))]"
   ]
  },
  {
   "cell_type": "markdown",
   "metadata": {},
   "source": [
    "### District Code - drop 80 and 63"
   ]
  },
  {
   "cell_type": "code",
   "execution_count": 164,
   "metadata": {},
   "outputs": [
    {
     "data": {
      "text/plain": [
       "2     5560\n",
       "1     5453\n",
       "3     4636\n",
       "4     3356\n",
       "5     1767\n",
       "6     1669\n",
       "7      929\n",
       "33     402\n",
       "8      387\n",
       "30     336\n",
       "13     289\n",
       "23     104\n",
       "43      61\n",
       "63      14\n",
       "80       2\n",
       "Name: district_code, dtype: int64"
      ]
     },
     "execution_count": 164,
     "metadata": {},
     "output_type": "execute_result"
    }
   ],
   "source": [
    "df_smallest['district_code'].value_counts()"
   ]
  },
  {
   "cell_type": "code",
   "execution_count": 165,
   "metadata": {},
   "outputs": [],
   "source": [
    "df_smallest = df_smallest.loc[~((df_smallest['district_code'] == 80) | (df_smallest['district_code'] == 63))]"
   ]
  },
  {
   "cell_type": "markdown",
   "metadata": {},
   "source": [
    "### lga - drop"
   ]
  },
  {
   "cell_type": "code",
   "execution_count": 166,
   "metadata": {},
   "outputs": [],
   "source": [
    "df_smallest = df_smallest.drop('lga', axis=1)"
   ]
  },
  {
   "cell_type": "markdown",
   "metadata": {},
   "source": [
    "### ward - drop"
   ]
  },
  {
   "cell_type": "code",
   "execution_count": 167,
   "metadata": {},
   "outputs": [],
   "source": [
    "df_smallest = df_smallest.drop('ward', axis=1)"
   ]
  },
  {
   "cell_type": "markdown",
   "metadata": {},
   "source": [
    "### public meeting - good"
   ]
  },
  {
   "cell_type": "code",
   "execution_count": 168,
   "metadata": {},
   "outputs": [
    {
     "data": {
      "text/plain": [
       "True     21399\n",
       "False     2379\n",
       "Name: public_meeting, dtype: int64"
      ]
     },
     "execution_count": 168,
     "metadata": {},
     "output_type": "execute_result"
    }
   ],
   "source": [
    "df_smallest['public_meeting'].value_counts()"
   ]
  },
  {
   "cell_type": "markdown",
   "metadata": {},
   "source": [
    "### scheme management - good"
   ]
  },
  {
   "cell_type": "code",
   "execution_count": 169,
   "metadata": {},
   "outputs": [
    {
     "data": {
      "text/plain": [
       "VWC                 15124\n",
       "WUG                  2498\n",
       "Water authority      1779\n",
       "WUA                  1302\n",
       "Water Board          1045\n",
       "Company               538\n",
       "Parastatal            368\n",
       "Other                 242\n",
       "Private operator       62\n",
       "Trust                   8\n",
       "Name: scheme_management, dtype: int64"
      ]
     },
     "execution_count": 169,
     "metadata": {},
     "output_type": "execute_result"
    }
   ],
   "source": [
    "df_smallest['scheme_management'].value_counts()"
   ]
  },
  {
   "cell_type": "markdown",
   "metadata": {},
   "source": [
    "### Permit - good"
   ]
  },
  {
   "cell_type": "code",
   "execution_count": 170,
   "metadata": {
    "scrolled": true
   },
   "outputs": [
    {
     "data": {
      "text/plain": [
       "True     17562\n",
       "False     7102\n",
       "Name: permit, dtype: int64"
      ]
     },
     "execution_count": 170,
     "metadata": {},
     "output_type": "execute_result"
    }
   ],
   "source": [
    "df_smallest['permit'].value_counts()"
   ]
  },
  {
   "cell_type": "markdown",
   "metadata": {},
   "source": [
    "### Extraction type class - good"
   ]
  },
  {
   "cell_type": "code",
   "execution_count": 171,
   "metadata": {
    "scrolled": true
   },
   "outputs": [
    {
     "data": {
      "text/plain": [
       "gravity         12507\n",
       "handpump         7519\n",
       "other            2568\n",
       "submersible      1378\n",
       "motorpump         874\n",
       "rope pump          97\n",
       "wind-powered       13\n",
       "Name: extraction_type_class, dtype: int64"
      ]
     },
     "execution_count": 171,
     "metadata": {},
     "output_type": "execute_result"
    }
   ],
   "source": [
    "df_smallest['extraction_type_class'].value_counts()"
   ]
  },
  {
   "cell_type": "markdown",
   "metadata": {},
   "source": [
    "### management - good"
   ]
  },
  {
   "cell_type": "code",
   "execution_count": 172,
   "metadata": {
    "scrolled": true
   },
   "outputs": [
    {
     "data": {
      "text/plain": [
       "vwc                 17144\n",
       "wug                  3176\n",
       "water board          1262\n",
       "wua                  1065\n",
       "private operator      586\n",
       "water authority       486\n",
       "parastatal            414\n",
       "other                 319\n",
       "company               272\n",
       "trust                   8\n",
       "Name: management, dtype: int64"
      ]
     },
     "execution_count": 172,
     "metadata": {},
     "output_type": "execute_result"
    }
   ],
   "source": [
    "df_smallest['management'].value_counts()"
   ]
  },
  {
   "cell_type": "markdown",
   "metadata": {},
   "source": [
    "### management group - good"
   ]
  },
  {
   "cell_type": "code",
   "execution_count": 173,
   "metadata": {},
   "outputs": [
    {
     "data": {
      "text/plain": [
       "user-group    22647\n",
       "commercial     1352\n",
       "parastatal      414\n",
       "other           319\n",
       "Name: management_group, dtype: int64"
      ]
     },
     "execution_count": 173,
     "metadata": {},
     "output_type": "execute_result"
    }
   ],
   "source": [
    "df_smallest['management_group'].value_counts()"
   ]
  },
  {
   "cell_type": "markdown",
   "metadata": {},
   "source": [
    "### payment - good"
   ]
  },
  {
   "cell_type": "code",
   "execution_count": 174,
   "metadata": {},
   "outputs": [
    {
     "data": {
      "text/plain": [
       "never pay                10484\n",
       "pay monthly               3984\n",
       "pay per bucket            2688\n",
       "pay when scheme fails     2152\n",
       "pay annually              1822\n",
       "other                      665\n",
       "Name: payment, dtype: int64"
      ]
     },
     "execution_count": 174,
     "metadata": {},
     "output_type": "execute_result"
    }
   ],
   "source": [
    "df_smallest['payment'].value_counts()"
   ]
  },
  {
   "cell_type": "markdown",
   "metadata": {},
   "source": [
    "### quality group - good"
   ]
  },
  {
   "cell_type": "code",
   "execution_count": 175,
   "metadata": {},
   "outputs": [
    {
     "data": {
      "text/plain": [
       "good        22222\n",
       "salty        1699\n",
       "milky         473\n",
       "colored       126\n",
       "fluoride       60\n",
       "Name: quality_group, dtype: int64"
      ]
     },
     "execution_count": 175,
     "metadata": {},
     "output_type": "execute_result"
    }
   ],
   "source": [
    "df_smallest['quality_group'].value_counts()"
   ]
  },
  {
   "cell_type": "markdown",
   "metadata": {},
   "source": [
    "### quantity - good"
   ]
  },
  {
   "cell_type": "code",
   "execution_count": 176,
   "metadata": {},
   "outputs": [
    {
     "data": {
      "text/plain": [
       "enough          14119\n",
       "insufficient     6591\n",
       "dry              2556\n",
       "seasonal         1470\n",
       "Name: quantity, dtype: int64"
      ]
     },
     "execution_count": 176,
     "metadata": {},
     "output_type": "execute_result"
    }
   ],
   "source": [
    "df_smallest['quantity'].value_counts()"
   ]
  },
  {
   "cell_type": "markdown",
   "metadata": {},
   "source": [
    "### source - good"
   ]
  },
  {
   "cell_type": "code",
   "execution_count": 177,
   "metadata": {
    "scrolled": false
   },
   "outputs": [
    {
     "data": {
      "text/plain": [
       "spring                  8312\n",
       "shallow well            7501\n",
       "river                   4116\n",
       "machine dbh             3325\n",
       "rainwater harvesting     666\n",
       "hand dtw                 416\n",
       "lake                     290\n",
       "dam                      266\n",
       "other                     36\n",
       "Name: source, dtype: int64"
      ]
     },
     "execution_count": 177,
     "metadata": {},
     "output_type": "execute_result"
    }
   ],
   "source": [
    "df_smallest['source'].value_counts()"
   ]
  },
  {
   "cell_type": "markdown",
   "metadata": {},
   "source": [
    "### source type - drop"
   ]
  },
  {
   "cell_type": "code",
   "execution_count": 178,
   "metadata": {
    "scrolled": true
   },
   "outputs": [
    {
     "data": {
      "text/plain": [
       "spring                  8312\n",
       "shallow well            7501\n",
       "river/lake              4406\n",
       "borehole                3741\n",
       "rainwater harvesting     666\n",
       "dam                      266\n",
       "other                     64\n",
       "Name: source_type, dtype: int64"
      ]
     },
     "execution_count": 178,
     "metadata": {},
     "output_type": "execute_result"
    }
   ],
   "source": [
    "df_smallest['source_type'].value_counts()"
   ]
  },
  {
   "cell_type": "code",
   "execution_count": 179,
   "metadata": {},
   "outputs": [],
   "source": [
    "df_smallest = df_smallest.drop('source_type', axis=1)"
   ]
  },
  {
   "cell_type": "markdown",
   "metadata": {},
   "source": [
    "### source class - good"
   ]
  },
  {
   "cell_type": "code",
   "execution_count": 180,
   "metadata": {},
   "outputs": [
    {
     "data": {
      "text/plain": [
       "groundwater    19554\n",
       "surface         5338\n",
       "Name: source_class, dtype: int64"
      ]
     },
     "execution_count": 180,
     "metadata": {},
     "output_type": "execute_result"
    }
   ],
   "source": [
    "df_smallest['source_class'].value_counts()"
   ]
  },
  {
   "cell_type": "markdown",
   "metadata": {},
   "source": [
    "### waterpoint type - drop"
   ]
  },
  {
   "cell_type": "code",
   "execution_count": 181,
   "metadata": {
    "scrolled": true
   },
   "outputs": [
    {
     "data": {
      "text/plain": [
       "communal standpipe             11353\n",
       "hand pump                       7928\n",
       "other                           2777\n",
       "communal standpipe multiple     2552\n",
       "improved spring                  283\n",
       "cattle trough                     60\n",
       "dam                                3\n",
       "Name: waterpoint_type, dtype: int64"
      ]
     },
     "execution_count": 181,
     "metadata": {},
     "output_type": "execute_result"
    }
   ],
   "source": [
    "df_smallest['waterpoint_type'].value_counts()"
   ]
  },
  {
   "cell_type": "code",
   "execution_count": 182,
   "metadata": {},
   "outputs": [],
   "source": [
    "df_smallest = df_smallest.drop('waterpoint_type', axis=1)"
   ]
  },
  {
   "cell_type": "markdown",
   "metadata": {},
   "source": [
    "### waterpoint type group - drop dam and cattle trough"
   ]
  },
  {
   "cell_type": "code",
   "execution_count": 183,
   "metadata": {
    "scrolled": true
   },
   "outputs": [
    {
     "data": {
      "text/plain": [
       "communal standpipe    13905\n",
       "hand pump              7928\n",
       "other                  2777\n",
       "improved spring         283\n",
       "cattle trough            60\n",
       "dam                       3\n",
       "Name: waterpoint_type_group, dtype: int64"
      ]
     },
     "execution_count": 183,
     "metadata": {},
     "output_type": "execute_result"
    }
   ],
   "source": [
    "df_smallest['waterpoint_type_group'].value_counts()"
   ]
  },
  {
   "cell_type": "code",
   "execution_count": 184,
   "metadata": {},
   "outputs": [],
   "source": [
    "df_smallest = df_smallest.loc[~((df_smallest['waterpoint_type_group'] == 'dam') |\n",
    "                                (df_smallest['waterpoint_type_group'] == 'cattle trough'))]"
   ]
  },
  {
   "cell_type": "markdown",
   "metadata": {},
   "source": [
    "### Preparing Data for Imputation\n",
    "MissForest is the imputer used for this project. MissForest can handle categorical data but the values must be numbers. Strings will not pass through the imputer. There is a lot of categorical data with strings as values. We created a function that turns these strings into an integer that corresponds to its rank in a .value_counts() in order to pass it through the MissForest imputer."
   ]
  },
  {
   "cell_type": "code",
   "execution_count": 185,
   "metadata": {},
   "outputs": [
    {
     "data": {
      "text/plain": [
       "Government Of Tanzania    7501\n",
       "Danida                    2868\n",
       "Hesawa                    1868\n",
       "Kkkt                      1117\n",
       "Rwssp                      995\n",
       "World Vision               880\n",
       "Unicef                     812\n",
       "Dhv                        794\n",
       "Tasaf                      640\n",
       "Germany Republi            610\n",
       "Tcrs                       575\n",
       "Norad                      569\n",
       "District Council           567\n",
       "Netherlands                455\n",
       "Water                      445\n",
       "Hifab                      444\n",
       "Lga                        431\n",
       "Private Individual         394\n",
       "Dwe                        387\n",
       "Adb                        379\n",
       "Dwsp                       357\n",
       "Oxfam                      341\n",
       "World Bank                 320\n",
       "Rudep                      291\n",
       "Ministry Of Water          274\n",
       "Wateraid                   201\n",
       "Amref                      191\n",
       "Isf                        178\n",
       "Rc Church                    9\n",
       "Name: funder, dtype: int64"
      ]
     },
     "execution_count": 185,
     "metadata": {},
     "output_type": "execute_result"
    }
   ],
   "source": [
    "df_smallest['funder'].value_counts()"
   ]
  },
  {
   "cell_type": "code",
   "execution_count": 186,
   "metadata": {
    "scrolled": true
   },
   "outputs": [
    {
     "data": {
      "text/html": [
       "<div>\n",
       "<style scoped>\n",
       "    .dataframe tbody tr th:only-of-type {\n",
       "        vertical-align: middle;\n",
       "    }\n",
       "\n",
       "    .dataframe tbody tr th {\n",
       "        vertical-align: top;\n",
       "    }\n",
       "\n",
       "    .dataframe thead th {\n",
       "        text-align: right;\n",
       "    }\n",
       "</style>\n",
       "<table border=\"1\" class=\"dataframe\">\n",
       "  <thead>\n",
       "    <tr style=\"text-align: right;\">\n",
       "      <th></th>\n",
       "      <th>date_recorded</th>\n",
       "      <th>funder</th>\n",
       "      <th>gps_height</th>\n",
       "      <th>installer</th>\n",
       "      <th>longitude</th>\n",
       "      <th>latitude</th>\n",
       "      <th>basin</th>\n",
       "      <th>region</th>\n",
       "      <th>region_code</th>\n",
       "      <th>district_code</th>\n",
       "      <th>...</th>\n",
       "      <th>extraction_type_class</th>\n",
       "      <th>management</th>\n",
       "      <th>management_group</th>\n",
       "      <th>payment</th>\n",
       "      <th>quality_group</th>\n",
       "      <th>quantity</th>\n",
       "      <th>source</th>\n",
       "      <th>source_class</th>\n",
       "      <th>waterpoint_type_group</th>\n",
       "      <th>status_group</th>\n",
       "    </tr>\n",
       "  </thead>\n",
       "  <tbody>\n",
       "    <tr>\n",
       "      <th>6</th>\n",
       "      <td>2012-10-01</td>\n",
       "      <td>Dwsp</td>\n",
       "      <td>0</td>\n",
       "      <td>DWSP</td>\n",
       "      <td>33.362410</td>\n",
       "      <td>-3.766365</td>\n",
       "      <td>Internal</td>\n",
       "      <td>Shinyanga</td>\n",
       "      <td>17</td>\n",
       "      <td>3</td>\n",
       "      <td>...</td>\n",
       "      <td>handpump</td>\n",
       "      <td>vwc</td>\n",
       "      <td>user-group</td>\n",
       "      <td>never pay</td>\n",
       "      <td>good</td>\n",
       "      <td>enough</td>\n",
       "      <td>machine dbh</td>\n",
       "      <td>groundwater</td>\n",
       "      <td>hand pump</td>\n",
       "      <td>non operational</td>\n",
       "    </tr>\n",
       "    <tr>\n",
       "      <th>7</th>\n",
       "      <td>2012-10-09</td>\n",
       "      <td>Rwssp</td>\n",
       "      <td>0</td>\n",
       "      <td>DWE</td>\n",
       "      <td>32.620617</td>\n",
       "      <td>-4.226198</td>\n",
       "      <td>Lake Tanganyika</td>\n",
       "      <td>Shinyanga</td>\n",
       "      <td>17</td>\n",
       "      <td>3</td>\n",
       "      <td>...</td>\n",
       "      <td>handpump</td>\n",
       "      <td>wug</td>\n",
       "      <td>user-group</td>\n",
       "      <td>None</td>\n",
       "      <td>milky</td>\n",
       "      <td>enough</td>\n",
       "      <td>shallow well</td>\n",
       "      <td>groundwater</td>\n",
       "      <td>hand pump</td>\n",
       "      <td>non operational</td>\n",
       "    </tr>\n",
       "    <tr>\n",
       "      <th>11</th>\n",
       "      <td>2013-02-18</td>\n",
       "      <td>Danida</td>\n",
       "      <td>1062</td>\n",
       "      <td>DANIDA</td>\n",
       "      <td>35.770258</td>\n",
       "      <td>-10.574175</td>\n",
       "      <td>Lake Nyasa</td>\n",
       "      <td>Ruvuma</td>\n",
       "      <td>10</td>\n",
       "      <td>5</td>\n",
       "      <td>...</td>\n",
       "      <td>handpump</td>\n",
       "      <td>wug</td>\n",
       "      <td>user-group</td>\n",
       "      <td>pay when scheme fails</td>\n",
       "      <td>good</td>\n",
       "      <td>insufficient</td>\n",
       "      <td>shallow well</td>\n",
       "      <td>groundwater</td>\n",
       "      <td>hand pump</td>\n",
       "      <td>operational</td>\n",
       "    </tr>\n",
       "    <tr>\n",
       "      <th>12</th>\n",
       "      <td>2012-10-14</td>\n",
       "      <td>World Vision</td>\n",
       "      <td>0</td>\n",
       "      <td>World vision</td>\n",
       "      <td>33.798106</td>\n",
       "      <td>-3.290194</td>\n",
       "      <td>Internal</td>\n",
       "      <td>Shinyanga</td>\n",
       "      <td>17</td>\n",
       "      <td>2</td>\n",
       "      <td>...</td>\n",
       "      <td>handpump</td>\n",
       "      <td>wug</td>\n",
       "      <td>user-group</td>\n",
       "      <td>other</td>\n",
       "      <td>good</td>\n",
       "      <td>enough</td>\n",
       "      <td>shallow well</td>\n",
       "      <td>groundwater</td>\n",
       "      <td>hand pump</td>\n",
       "      <td>operational</td>\n",
       "    </tr>\n",
       "    <tr>\n",
       "      <th>15</th>\n",
       "      <td>2011-08-04</td>\n",
       "      <td>Rudep</td>\n",
       "      <td>1645</td>\n",
       "      <td>DWE</td>\n",
       "      <td>31.444121</td>\n",
       "      <td>-8.274962</td>\n",
       "      <td>Lake Tanganyika</td>\n",
       "      <td>Rukwa</td>\n",
       "      <td>15</td>\n",
       "      <td>2</td>\n",
       "      <td>...</td>\n",
       "      <td>handpump</td>\n",
       "      <td>vwc</td>\n",
       "      <td>user-group</td>\n",
       "      <td>never pay</td>\n",
       "      <td>good</td>\n",
       "      <td>enough</td>\n",
       "      <td>machine dbh</td>\n",
       "      <td>groundwater</td>\n",
       "      <td>hand pump</td>\n",
       "      <td>operational</td>\n",
       "    </tr>\n",
       "  </tbody>\n",
       "</table>\n",
       "<p>5 rows × 25 columns</p>\n",
       "</div>"
      ],
      "text/plain": [
       "   date_recorded        funder  gps_height     installer  longitude  \\\n",
       "6     2012-10-01          Dwsp           0          DWSP  33.362410   \n",
       "7     2012-10-09         Rwssp           0           DWE  32.620617   \n",
       "11    2013-02-18        Danida        1062        DANIDA  35.770258   \n",
       "12    2012-10-14  World Vision           0  World vision  33.798106   \n",
       "15    2011-08-04         Rudep        1645           DWE  31.444121   \n",
       "\n",
       "     latitude            basin     region  region_code district_code  ...  \\\n",
       "6   -3.766365         Internal  Shinyanga           17             3  ...   \n",
       "7   -4.226198  Lake Tanganyika  Shinyanga           17             3  ...   \n",
       "11 -10.574175       Lake Nyasa     Ruvuma           10             5  ...   \n",
       "12  -3.290194         Internal  Shinyanga           17             2  ...   \n",
       "15  -8.274962  Lake Tanganyika      Rukwa           15             2  ...   \n",
       "\n",
       "   extraction_type_class management management_group                payment  \\\n",
       "6               handpump        vwc       user-group              never pay   \n",
       "7               handpump        wug       user-group                   None   \n",
       "11              handpump        wug       user-group  pay when scheme fails   \n",
       "12              handpump        wug       user-group                  other   \n",
       "15              handpump        vwc       user-group              never pay   \n",
       "\n",
       "   quality_group      quantity        source source_class  \\\n",
       "6           good        enough   machine dbh  groundwater   \n",
       "7          milky        enough  shallow well  groundwater   \n",
       "11          good  insufficient  shallow well  groundwater   \n",
       "12          good        enough  shallow well  groundwater   \n",
       "15          good        enough   machine dbh  groundwater   \n",
       "\n",
       "   waterpoint_type_group     status_group  \n",
       "6              hand pump  non operational  \n",
       "7              hand pump  non operational  \n",
       "11             hand pump      operational  \n",
       "12             hand pump      operational  \n",
       "15             hand pump      operational  \n",
       "\n",
       "[5 rows x 25 columns]"
      ]
     },
     "execution_count": 186,
     "metadata": {},
     "output_type": "execute_result"
    }
   ],
   "source": [
    "df_smallest.head()"
   ]
  },
  {
   "cell_type": "code",
   "execution_count": 187,
   "metadata": {},
   "outputs": [],
   "source": [
    "# this function takes columns from the df and turns the value into numbers in order to impute nulls with MissForest\n",
    "def transform_columns(dataframe, columns):\n",
    "    #creating new df that will have integers instead of strings for values\n",
    "    transformed_df = pd.DataFrame()\n",
    "    \n",
    "    #loops through each column in the df given and assigns the strings an integer based off the rank in .value_counts()\n",
    "    for column in columns:\n",
    "        unique_vals = dataframe[column].value_counts().index\n",
    "        string_to_numbers = dataframe[column].replace(to_replace=unique_vals, value=list(range(len(unique_vals))))\n",
    "        transformed_df[column] = string_to_numbers\n",
    "        \n",
    "    return transformed_df"
   ]
  },
  {
   "cell_type": "markdown",
   "metadata": {},
   "source": [
    "### Using the Function\n",
    "\n",
    "Running the function in the cell below takes a few minutes so we saved it as a .csv file in order to quickly access it.\n",
    "The below cell is commented out but shows where `transformed_df` is coming from and can be ran if needed."
   ]
  },
  {
   "cell_type": "code",
   "execution_count": 188,
   "metadata": {},
   "outputs": [],
   "source": [
    "#Using the function above on all categorical columns\n",
    "\n",
    "transformed_df = transform_columns(df_smallest, ['funder', 'installer', 'basin', 'region', \n",
    "                                                    'region_code', 'district_code', 'public_meeting', \n",
    "                                                    'scheme_management', 'permit', 'extraction_type_class',\n",
    "                                                    'management', 'management_group', 'payment', 'quality_group', \n",
    "                                                    'quantity', 'source', 'source_class',\n",
    "                                                    'waterpoint_type_group', 'status_group'])"
   ]
  },
  {
   "cell_type": "markdown",
   "metadata": {},
   "source": [
    "### .csv File\n",
    "\n",
    "working_df.csv is the file saved from `transformed_df`"
   ]
  },
  {
   "cell_type": "code",
   "execution_count": 189,
   "metadata": {},
   "outputs": [],
   "source": [
    "#Loading in working_df.csv as transformed_df\n",
    "#transformed_df = pd.read_csv('../Dev_Notebooks/working_df.csv')\n",
    "#transformed_df"
   ]
  },
  {
   "cell_type": "markdown",
   "metadata": {},
   "source": [
    "### Removing Extra Column\n",
    "\n",
    "When saving it, there was an exta column added in the beginning that needs to be dropped."
   ]
  },
  {
   "cell_type": "code",
   "execution_count": 190,
   "metadata": {},
   "outputs": [
    {
     "data": {
      "text/html": [
       "<div>\n",
       "<style scoped>\n",
       "    .dataframe tbody tr th:only-of-type {\n",
       "        vertical-align: middle;\n",
       "    }\n",
       "\n",
       "    .dataframe tbody tr th {\n",
       "        vertical-align: top;\n",
       "    }\n",
       "\n",
       "    .dataframe thead th {\n",
       "        text-align: right;\n",
       "    }\n",
       "</style>\n",
       "<table border=\"1\" class=\"dataframe\">\n",
       "  <thead>\n",
       "    <tr style=\"text-align: right;\">\n",
       "      <th></th>\n",
       "      <th>funder</th>\n",
       "      <th>installer</th>\n",
       "      <th>basin</th>\n",
       "      <th>region</th>\n",
       "      <th>region_code</th>\n",
       "      <th>district_code</th>\n",
       "      <th>public_meeting</th>\n",
       "      <th>scheme_management</th>\n",
       "      <th>permit</th>\n",
       "      <th>extraction_type_class</th>\n",
       "      <th>management</th>\n",
       "      <th>management_group</th>\n",
       "      <th>payment</th>\n",
       "      <th>quality_group</th>\n",
       "      <th>quantity</th>\n",
       "      <th>source</th>\n",
       "      <th>source_class</th>\n",
       "      <th>waterpoint_type_group</th>\n",
       "      <th>status_group</th>\n",
       "    </tr>\n",
       "  </thead>\n",
       "  <tbody>\n",
       "    <tr>\n",
       "      <th>6</th>\n",
       "      <td>20</td>\n",
       "      <td>27</td>\n",
       "      <td>4</td>\n",
       "      <td>0</td>\n",
       "      <td>0</td>\n",
       "      <td>2.0</td>\n",
       "      <td>0.0</td>\n",
       "      <td>0.0</td>\n",
       "      <td>0.0</td>\n",
       "      <td>1</td>\n",
       "      <td>0.0</td>\n",
       "      <td>0.0</td>\n",
       "      <td>0.0</td>\n",
       "      <td>0.0</td>\n",
       "      <td>0.0</td>\n",
       "      <td>3.0</td>\n",
       "      <td>0.0</td>\n",
       "      <td>1</td>\n",
       "      <td>1</td>\n",
       "    </tr>\n",
       "    <tr>\n",
       "      <th>7</th>\n",
       "      <td>4</td>\n",
       "      <td>0</td>\n",
       "      <td>3</td>\n",
       "      <td>0</td>\n",
       "      <td>0</td>\n",
       "      <td>2.0</td>\n",
       "      <td>0.0</td>\n",
       "      <td>NaN</td>\n",
       "      <td>0.0</td>\n",
       "      <td>1</td>\n",
       "      <td>1.0</td>\n",
       "      <td>0.0</td>\n",
       "      <td>NaN</td>\n",
       "      <td>2.0</td>\n",
       "      <td>0.0</td>\n",
       "      <td>1.0</td>\n",
       "      <td>0.0</td>\n",
       "      <td>1</td>\n",
       "      <td>1</td>\n",
       "    </tr>\n",
       "    <tr>\n",
       "      <th>11</th>\n",
       "      <td>1</td>\n",
       "      <td>2</td>\n",
       "      <td>6</td>\n",
       "      <td>5</td>\n",
       "      <td>5</td>\n",
       "      <td>4.0</td>\n",
       "      <td>0.0</td>\n",
       "      <td>1.0</td>\n",
       "      <td>1.0</td>\n",
       "      <td>1</td>\n",
       "      <td>1.0</td>\n",
       "      <td>0.0</td>\n",
       "      <td>3.0</td>\n",
       "      <td>0.0</td>\n",
       "      <td>1.0</td>\n",
       "      <td>1.0</td>\n",
       "      <td>0.0</td>\n",
       "      <td>1</td>\n",
       "      <td>0</td>\n",
       "    </tr>\n",
       "    <tr>\n",
       "      <th>12</th>\n",
       "      <td>5</td>\n",
       "      <td>14</td>\n",
       "      <td>4</td>\n",
       "      <td>0</td>\n",
       "      <td>0</td>\n",
       "      <td>0.0</td>\n",
       "      <td>0.0</td>\n",
       "      <td>1.0</td>\n",
       "      <td>1.0</td>\n",
       "      <td>1</td>\n",
       "      <td>1.0</td>\n",
       "      <td>0.0</td>\n",
       "      <td>5.0</td>\n",
       "      <td>0.0</td>\n",
       "      <td>0.0</td>\n",
       "      <td>1.0</td>\n",
       "      <td>0.0</td>\n",
       "      <td>1</td>\n",
       "      <td>0</td>\n",
       "    </tr>\n",
       "    <tr>\n",
       "      <th>15</th>\n",
       "      <td>23</td>\n",
       "      <td>0</td>\n",
       "      <td>3</td>\n",
       "      <td>11</td>\n",
       "      <td>11</td>\n",
       "      <td>0.0</td>\n",
       "      <td>0.0</td>\n",
       "      <td>0.0</td>\n",
       "      <td>1.0</td>\n",
       "      <td>1</td>\n",
       "      <td>0.0</td>\n",
       "      <td>0.0</td>\n",
       "      <td>0.0</td>\n",
       "      <td>0.0</td>\n",
       "      <td>0.0</td>\n",
       "      <td>3.0</td>\n",
       "      <td>0.0</td>\n",
       "      <td>1</td>\n",
       "      <td>0</td>\n",
       "    </tr>\n",
       "    <tr>\n",
       "      <th>...</th>\n",
       "      <td>...</td>\n",
       "      <td>...</td>\n",
       "      <td>...</td>\n",
       "      <td>...</td>\n",
       "      <td>...</td>\n",
       "      <td>...</td>\n",
       "      <td>...</td>\n",
       "      <td>...</td>\n",
       "      <td>...</td>\n",
       "      <td>...</td>\n",
       "      <td>...</td>\n",
       "      <td>...</td>\n",
       "      <td>...</td>\n",
       "      <td>...</td>\n",
       "      <td>...</td>\n",
       "      <td>...</td>\n",
       "      <td>...</td>\n",
       "      <td>...</td>\n",
       "      <td>...</td>\n",
       "    </tr>\n",
       "    <tr>\n",
       "      <th>59386</th>\n",
       "      <td>19</td>\n",
       "      <td>0</td>\n",
       "      <td>5</td>\n",
       "      <td>11</td>\n",
       "      <td>11</td>\n",
       "      <td>0.0</td>\n",
       "      <td>0.0</td>\n",
       "      <td>0.0</td>\n",
       "      <td>1.0</td>\n",
       "      <td>1</td>\n",
       "      <td>0.0</td>\n",
       "      <td>0.0</td>\n",
       "      <td>0.0</td>\n",
       "      <td>0.0</td>\n",
       "      <td>0.0</td>\n",
       "      <td>3.0</td>\n",
       "      <td>0.0</td>\n",
       "      <td>1</td>\n",
       "      <td>0</td>\n",
       "    </tr>\n",
       "    <tr>\n",
       "      <th>59390</th>\n",
       "      <td>23</td>\n",
       "      <td>0</td>\n",
       "      <td>3</td>\n",
       "      <td>11</td>\n",
       "      <td>11</td>\n",
       "      <td>0.0</td>\n",
       "      <td>0.0</td>\n",
       "      <td>0.0</td>\n",
       "      <td>1.0</td>\n",
       "      <td>1</td>\n",
       "      <td>0.0</td>\n",
       "      <td>0.0</td>\n",
       "      <td>0.0</td>\n",
       "      <td>0.0</td>\n",
       "      <td>1.0</td>\n",
       "      <td>3.0</td>\n",
       "      <td>0.0</td>\n",
       "      <td>1</td>\n",
       "      <td>0</td>\n",
       "    </tr>\n",
       "    <tr>\n",
       "      <th>59391</th>\n",
       "      <td>0</td>\n",
       "      <td>1</td>\n",
       "      <td>0</td>\n",
       "      <td>2</td>\n",
       "      <td>2</td>\n",
       "      <td>2.0</td>\n",
       "      <td>0.0</td>\n",
       "      <td>2.0</td>\n",
       "      <td>0.0</td>\n",
       "      <td>0</td>\n",
       "      <td>0.0</td>\n",
       "      <td>0.0</td>\n",
       "      <td>0.0</td>\n",
       "      <td>0.0</td>\n",
       "      <td>0.0</td>\n",
       "      <td>2.0</td>\n",
       "      <td>1.0</td>\n",
       "      <td>0</td>\n",
       "      <td>1</td>\n",
       "    </tr>\n",
       "    <tr>\n",
       "      <th>59392</th>\n",
       "      <td>0</td>\n",
       "      <td>1</td>\n",
       "      <td>5</td>\n",
       "      <td>3</td>\n",
       "      <td>3</td>\n",
       "      <td>1.0</td>\n",
       "      <td>0.0</td>\n",
       "      <td>0.0</td>\n",
       "      <td>0.0</td>\n",
       "      <td>0</td>\n",
       "      <td>0.0</td>\n",
       "      <td>0.0</td>\n",
       "      <td>0.0</td>\n",
       "      <td>0.0</td>\n",
       "      <td>0.0</td>\n",
       "      <td>0.0</td>\n",
       "      <td>0.0</td>\n",
       "      <td>0</td>\n",
       "      <td>1</td>\n",
       "    </tr>\n",
       "    <tr>\n",
       "      <th>59395</th>\n",
       "      <td>9</td>\n",
       "      <td>8</td>\n",
       "      <td>0</td>\n",
       "      <td>2</td>\n",
       "      <td>2</td>\n",
       "      <td>4.0</td>\n",
       "      <td>0.0</td>\n",
       "      <td>4.0</td>\n",
       "      <td>0.0</td>\n",
       "      <td>0</td>\n",
       "      <td>2.0</td>\n",
       "      <td>0.0</td>\n",
       "      <td>2.0</td>\n",
       "      <td>0.0</td>\n",
       "      <td>0.0</td>\n",
       "      <td>0.0</td>\n",
       "      <td>0.0</td>\n",
       "      <td>0</td>\n",
       "      <td>0</td>\n",
       "    </tr>\n",
       "  </tbody>\n",
       "</table>\n",
       "<p>24893 rows × 19 columns</p>\n",
       "</div>"
      ],
      "text/plain": [
       "       funder  installer  basin  region  region_code  district_code  \\\n",
       "6          20         27      4       0            0            2.0   \n",
       "7           4          0      3       0            0            2.0   \n",
       "11          1          2      6       5            5            4.0   \n",
       "12          5         14      4       0            0            0.0   \n",
       "15         23          0      3      11           11            0.0   \n",
       "...       ...        ...    ...     ...          ...            ...   \n",
       "59386      19          0      5      11           11            0.0   \n",
       "59390      23          0      3      11           11            0.0   \n",
       "59391       0          1      0       2            2            2.0   \n",
       "59392       0          1      5       3            3            1.0   \n",
       "59395       9          8      0       2            2            4.0   \n",
       "\n",
       "       public_meeting  scheme_management  permit  extraction_type_class  \\\n",
       "6                 0.0                0.0     0.0                      1   \n",
       "7                 0.0                NaN     0.0                      1   \n",
       "11                0.0                1.0     1.0                      1   \n",
       "12                0.0                1.0     1.0                      1   \n",
       "15                0.0                0.0     1.0                      1   \n",
       "...               ...                ...     ...                    ...   \n",
       "59386             0.0                0.0     1.0                      1   \n",
       "59390             0.0                0.0     1.0                      1   \n",
       "59391             0.0                2.0     0.0                      0   \n",
       "59392             0.0                0.0     0.0                      0   \n",
       "59395             0.0                4.0     0.0                      0   \n",
       "\n",
       "       management  management_group  payment  quality_group  quantity  source  \\\n",
       "6             0.0               0.0      0.0            0.0       0.0     3.0   \n",
       "7             1.0               0.0      NaN            2.0       0.0     1.0   \n",
       "11            1.0               0.0      3.0            0.0       1.0     1.0   \n",
       "12            1.0               0.0      5.0            0.0       0.0     1.0   \n",
       "15            0.0               0.0      0.0            0.0       0.0     3.0   \n",
       "...           ...               ...      ...            ...       ...     ...   \n",
       "59386         0.0               0.0      0.0            0.0       0.0     3.0   \n",
       "59390         0.0               0.0      0.0            0.0       1.0     3.0   \n",
       "59391         0.0               0.0      0.0            0.0       0.0     2.0   \n",
       "59392         0.0               0.0      0.0            0.0       0.0     0.0   \n",
       "59395         2.0               0.0      2.0            0.0       0.0     0.0   \n",
       "\n",
       "       source_class  waterpoint_type_group  status_group  \n",
       "6               0.0                      1             1  \n",
       "7               0.0                      1             1  \n",
       "11              0.0                      1             0  \n",
       "12              0.0                      1             0  \n",
       "15              0.0                      1             0  \n",
       "...             ...                    ...           ...  \n",
       "59386           0.0                      1             0  \n",
       "59390           0.0                      1             0  \n",
       "59391           1.0                      0             1  \n",
       "59392           0.0                      0             1  \n",
       "59395           0.0                      0             0  \n",
       "\n",
       "[24893 rows x 19 columns]"
      ]
     },
     "execution_count": 190,
     "metadata": {},
     "output_type": "execute_result"
    }
   ],
   "source": [
    "#Dropping unnecessary column\n",
    "#transformed_df = transformed_df.drop('Unnamed: 0', axis=1)\n",
    "transformed_df"
   ]
  },
  {
   "cell_type": "markdown",
   "metadata": {},
   "source": [
    "### Combining all Columns into `transformed_df`\n",
    "\n",
    "Now that the categorical columns have been changed to numbers, the numerical columns can be merged back into the same DataFrame."
   ]
  },
  {
   "cell_type": "code",
   "execution_count": 191,
   "metadata": {},
   "outputs": [],
   "source": [
    "#Adding all numerical columns onto 'transformed_df'\n",
    "transformed_df['date_recorded'] = df_smallest['date_recorded']\n",
    "transformed_df['gps_height'] = df_smallest['gps_height']\n",
    "transformed_df['longitude'] = df_smallest['longitude']\n",
    "transformed_df['latitude'] = df_smallest['latitude']\n",
    "transformed_df['population'] = df_smallest['population']\n",
    "transformed_df['construction_year'] = df_smallest['construction_year']"
   ]
  },
  {
   "cell_type": "markdown",
   "metadata": {},
   "source": [
    "### turning date recorded to year only"
   ]
  },
  {
   "cell_type": "code",
   "execution_count": 192,
   "metadata": {},
   "outputs": [],
   "source": [
    "transformed_df['date_recorded'] = pd.to_datetime(transformed_df['date_recorded'])"
   ]
  },
  {
   "cell_type": "code",
   "execution_count": 193,
   "metadata": {},
   "outputs": [],
   "source": [
    "transformed_df['date_recorded'] = transformed_df['date_recorded'].dt.strftime('%Y')"
   ]
  },
  {
   "cell_type": "markdown",
   "metadata": {},
   "source": [
    "### The Data is Clean and Ready for Train/Test Split\n",
    "\n",
    "For the split the target column is 'status_group' and will be used for `y`. All other columns will be used as featues and will be set to `X`. A random state of 33 is used and a test size slightly larger than defualt at 0.3."
   ]
  },
  {
   "cell_type": "code",
   "execution_count": 194,
   "metadata": {},
   "outputs": [],
   "source": [
    "#Splitting the column into the target and features\n",
    "X = transformed_df.drop('status_group', axis=1)\n",
    "y = transformed_df['status_group']\n",
    "\n",
    "#Creating the 4 different groups resulting from a train/test split with a test size of 0.3\n",
    "X_train, X_test, y_train, y_test = train_test_split(X, y, random_state=33, test_size=0.3)"
   ]
  },
  {
   "cell_type": "markdown",
   "metadata": {},
   "source": [
    "### Now the Data is Split, It's Time for the Imputer\n"
   ]
  },
  {
   "cell_type": "code",
   "execution_count": 195,
   "metadata": {},
   "outputs": [],
   "source": [
    "#Instantiate the MissForest\n",
    "imputer = MissForest(random_state=33, max_depth=5)"
   ]
  },
  {
   "cell_type": "markdown",
   "metadata": {},
   "source": [
    "### Imputing `X_train`\n"
   ]
  },
  {
   "cell_type": "code",
   "execution_count": 196,
   "metadata": {},
   "outputs": [
    {
     "name": "stdout",
     "output_type": "stream",
     "text": [
      "Iteration: 0\n",
      "Iteration: 1\n",
      "Iteration: 2\n",
      "Iteration: 3\n",
      "Iteration: 4\n",
      "Iteration: 5\n",
      "Iteration: 6\n"
     ]
    }
   ],
   "source": [
    "#The cat_vars parameter is telling MissForest which columns are categorical\n",
    "\n",
    "X_train_imputed = imputer.fit(X_train, cat_vars=[0, 1, 2, 3, 4, 5, 6, 7, 8, 9, 10, 11, 12, 13, 14, 15, 16, 17])\n",
    "X_train_imputed = imputer.transform(X_train)"
   ]
  },
  {
   "cell_type": "code",
   "execution_count": 197,
   "metadata": {
    "scrolled": true
   },
   "outputs": [
    {
     "data": {
      "text/plain": [
       "array([[ 1.00000000e+00,  2.00000000e+00,  6.00000000e+00, ...,\n",
       "        -1.05834403e+01,  3.00000000e+02,  1.98700000e+03],\n",
       "       [ 1.00000000e+00,  2.00000000e+00,  3.00000000e+00, ...,\n",
       "        -4.32193779e+00,  5.40000000e+02,  2.00600000e+03],\n",
       "       [ 2.00000000e+00,  0.00000000e+00,  1.00000000e+00, ...,\n",
       "        -2.52041735e+00,  5.95240644e+02,  1.98559386e+03],\n",
       "       ...,\n",
       "       [ 2.20000000e+01,  6.00000000e+00,  8.00000000e+00, ...,\n",
       "        -6.09122965e+00,  2.10203755e+02,  1.99558391e+03],\n",
       "       [ 5.00000000e+00,  1.40000000e+01,  4.00000000e+00, ...,\n",
       "        -3.34350769e+00,  6.35738972e+02,  1.99861038e+03],\n",
       "       [ 2.00000000e+00,  1.10000000e+01,  1.00000000e+00, ...,\n",
       "        -2.53039654e+00,  3.86754728e+02,  1.98559479e+03]])"
      ]
     },
     "execution_count": 197,
     "metadata": {},
     "output_type": "execute_result"
    }
   ],
   "source": [
    "#Loading in the saved .csv file as X_train_imputed\n",
    "#X_train_imputed = pd.read_csv('../Dev_Notebooks/X_train_imputed.csv')\n",
    "X_train_imputed"
   ]
  },
  {
   "cell_type": "code",
   "execution_count": 198,
   "metadata": {},
   "outputs": [
    {
     "data": {
      "text/html": [
       "<div>\n",
       "<style scoped>\n",
       "    .dataframe tbody tr th:only-of-type {\n",
       "        vertical-align: middle;\n",
       "    }\n",
       "\n",
       "    .dataframe tbody tr th {\n",
       "        vertical-align: top;\n",
       "    }\n",
       "\n",
       "    .dataframe thead th {\n",
       "        text-align: right;\n",
       "    }\n",
       "</style>\n",
       "<table border=\"1\" class=\"dataframe\">\n",
       "  <thead>\n",
       "    <tr style=\"text-align: right;\">\n",
       "      <th></th>\n",
       "      <th>0</th>\n",
       "      <th>1</th>\n",
       "      <th>2</th>\n",
       "      <th>3</th>\n",
       "      <th>4</th>\n",
       "      <th>5</th>\n",
       "      <th>6</th>\n",
       "      <th>7</th>\n",
       "      <th>8</th>\n",
       "      <th>9</th>\n",
       "      <th>...</th>\n",
       "      <th>14</th>\n",
       "      <th>15</th>\n",
       "      <th>16</th>\n",
       "      <th>17</th>\n",
       "      <th>18</th>\n",
       "      <th>19</th>\n",
       "      <th>20</th>\n",
       "      <th>21</th>\n",
       "      <th>22</th>\n",
       "      <th>23</th>\n",
       "    </tr>\n",
       "  </thead>\n",
       "  <tbody>\n",
       "    <tr>\n",
       "      <th>0</th>\n",
       "      <td>1.0</td>\n",
       "      <td>2.0</td>\n",
       "      <td>6.0</td>\n",
       "      <td>5.0</td>\n",
       "      <td>5.0</td>\n",
       "      <td>4.0</td>\n",
       "      <td>0.0</td>\n",
       "      <td>1.0</td>\n",
       "      <td>1.0</td>\n",
       "      <td>2.0</td>\n",
       "      <td>...</td>\n",
       "      <td>2.0</td>\n",
       "      <td>1.0</td>\n",
       "      <td>0.0</td>\n",
       "      <td>2.0</td>\n",
       "      <td>2013.0</td>\n",
       "      <td>1094.0</td>\n",
       "      <td>35.793151</td>\n",
       "      <td>-10.583440</td>\n",
       "      <td>300.000000</td>\n",
       "      <td>1987.000000</td>\n",
       "    </tr>\n",
       "    <tr>\n",
       "      <th>1</th>\n",
       "      <td>1.0</td>\n",
       "      <td>2.0</td>\n",
       "      <td>3.0</td>\n",
       "      <td>4.0</td>\n",
       "      <td>4.0</td>\n",
       "      <td>0.0</td>\n",
       "      <td>0.0</td>\n",
       "      <td>2.0</td>\n",
       "      <td>0.0</td>\n",
       "      <td>0.0</td>\n",
       "      <td>...</td>\n",
       "      <td>0.0</td>\n",
       "      <td>2.0</td>\n",
       "      <td>1.0</td>\n",
       "      <td>0.0</td>\n",
       "      <td>2013.0</td>\n",
       "      <td>1416.0</td>\n",
       "      <td>30.076793</td>\n",
       "      <td>-4.321938</td>\n",
       "      <td>540.000000</td>\n",
       "      <td>2006.000000</td>\n",
       "    </tr>\n",
       "    <tr>\n",
       "      <th>2</th>\n",
       "      <td>2.0</td>\n",
       "      <td>0.0</td>\n",
       "      <td>1.0</td>\n",
       "      <td>7.0</td>\n",
       "      <td>7.0</td>\n",
       "      <td>0.0</td>\n",
       "      <td>0.0</td>\n",
       "      <td>6.0</td>\n",
       "      <td>0.0</td>\n",
       "      <td>0.0</td>\n",
       "      <td>...</td>\n",
       "      <td>2.0</td>\n",
       "      <td>4.0</td>\n",
       "      <td>1.0</td>\n",
       "      <td>0.0</td>\n",
       "      <td>2011.0</td>\n",
       "      <td>0.0</td>\n",
       "      <td>33.483571</td>\n",
       "      <td>-2.520417</td>\n",
       "      <td>595.240644</td>\n",
       "      <td>1985.593858</td>\n",
       "    </tr>\n",
       "    <tr>\n",
       "      <th>3</th>\n",
       "      <td>0.0</td>\n",
       "      <td>3.0</td>\n",
       "      <td>0.0</td>\n",
       "      <td>10.0</td>\n",
       "      <td>10.0</td>\n",
       "      <td>0.0</td>\n",
       "      <td>0.0</td>\n",
       "      <td>0.0</td>\n",
       "      <td>1.0</td>\n",
       "      <td>0.0</td>\n",
       "      <td>...</td>\n",
       "      <td>1.0</td>\n",
       "      <td>0.0</td>\n",
       "      <td>0.0</td>\n",
       "      <td>0.0</td>\n",
       "      <td>2011.0</td>\n",
       "      <td>295.0</td>\n",
       "      <td>38.536401</td>\n",
       "      <td>-5.006737</td>\n",
       "      <td>75.000000</td>\n",
       "      <td>1972.000000</td>\n",
       "    </tr>\n",
       "    <tr>\n",
       "      <th>4</th>\n",
       "      <td>2.0</td>\n",
       "      <td>0.0</td>\n",
       "      <td>1.0</td>\n",
       "      <td>13.0</td>\n",
       "      <td>13.0</td>\n",
       "      <td>3.0</td>\n",
       "      <td>0.0</td>\n",
       "      <td>1.0</td>\n",
       "      <td>1.0</td>\n",
       "      <td>2.0</td>\n",
       "      <td>...</td>\n",
       "      <td>0.0</td>\n",
       "      <td>1.0</td>\n",
       "      <td>0.0</td>\n",
       "      <td>2.0</td>\n",
       "      <td>2012.0</td>\n",
       "      <td>1281.0</td>\n",
       "      <td>33.964612</td>\n",
       "      <td>-1.997276</td>\n",
       "      <td>250.000000</td>\n",
       "      <td>1989.000000</td>\n",
       "    </tr>\n",
       "    <tr>\n",
       "      <th>...</th>\n",
       "      <td>...</td>\n",
       "      <td>...</td>\n",
       "      <td>...</td>\n",
       "      <td>...</td>\n",
       "      <td>...</td>\n",
       "      <td>...</td>\n",
       "      <td>...</td>\n",
       "      <td>...</td>\n",
       "      <td>...</td>\n",
       "      <td>...</td>\n",
       "      <td>...</td>\n",
       "      <td>...</td>\n",
       "      <td>...</td>\n",
       "      <td>...</td>\n",
       "      <td>...</td>\n",
       "      <td>...</td>\n",
       "      <td>...</td>\n",
       "      <td>...</td>\n",
       "      <td>...</td>\n",
       "      <td>...</td>\n",
       "      <td>...</td>\n",
       "    </tr>\n",
       "    <tr>\n",
       "      <th>17420</th>\n",
       "      <td>0.0</td>\n",
       "      <td>0.0</td>\n",
       "      <td>0.0</td>\n",
       "      <td>9.0</td>\n",
       "      <td>9.0</td>\n",
       "      <td>0.0</td>\n",
       "      <td>0.0</td>\n",
       "      <td>0.0</td>\n",
       "      <td>0.0</td>\n",
       "      <td>0.0</td>\n",
       "      <td>...</td>\n",
       "      <td>1.0</td>\n",
       "      <td>0.0</td>\n",
       "      <td>0.0</td>\n",
       "      <td>0.0</td>\n",
       "      <td>2013.0</td>\n",
       "      <td>976.0</td>\n",
       "      <td>36.841507</td>\n",
       "      <td>-3.493668</td>\n",
       "      <td>150.000000</td>\n",
       "      <td>1989.032690</td>\n",
       "    </tr>\n",
       "    <tr>\n",
       "      <th>17421</th>\n",
       "      <td>19.0</td>\n",
       "      <td>0.0</td>\n",
       "      <td>2.0</td>\n",
       "      <td>1.0</td>\n",
       "      <td>1.0</td>\n",
       "      <td>3.0</td>\n",
       "      <td>0.0</td>\n",
       "      <td>0.0</td>\n",
       "      <td>1.0</td>\n",
       "      <td>0.0</td>\n",
       "      <td>...</td>\n",
       "      <td>0.0</td>\n",
       "      <td>2.0</td>\n",
       "      <td>1.0</td>\n",
       "      <td>0.0</td>\n",
       "      <td>2011.0</td>\n",
       "      <td>1366.0</td>\n",
       "      <td>35.083920</td>\n",
       "      <td>-9.068121</td>\n",
       "      <td>50.000000</td>\n",
       "      <td>2008.000000</td>\n",
       "    </tr>\n",
       "    <tr>\n",
       "      <th>17422</th>\n",
       "      <td>22.0</td>\n",
       "      <td>6.0</td>\n",
       "      <td>8.0</td>\n",
       "      <td>14.0</td>\n",
       "      <td>14.0</td>\n",
       "      <td>4.0</td>\n",
       "      <td>0.0</td>\n",
       "      <td>0.0</td>\n",
       "      <td>1.0</td>\n",
       "      <td>1.0</td>\n",
       "      <td>...</td>\n",
       "      <td>1.0</td>\n",
       "      <td>1.0</td>\n",
       "      <td>0.0</td>\n",
       "      <td>1.0</td>\n",
       "      <td>2011.0</td>\n",
       "      <td>0.0</td>\n",
       "      <td>35.911264</td>\n",
       "      <td>-6.091230</td>\n",
       "      <td>210.203755</td>\n",
       "      <td>1995.583915</td>\n",
       "    </tr>\n",
       "    <tr>\n",
       "      <th>17423</th>\n",
       "      <td>5.0</td>\n",
       "      <td>14.0</td>\n",
       "      <td>4.0</td>\n",
       "      <td>0.0</td>\n",
       "      <td>0.0</td>\n",
       "      <td>0.0</td>\n",
       "      <td>0.0</td>\n",
       "      <td>1.0</td>\n",
       "      <td>1.0</td>\n",
       "      <td>1.0</td>\n",
       "      <td>...</td>\n",
       "      <td>0.0</td>\n",
       "      <td>1.0</td>\n",
       "      <td>0.0</td>\n",
       "      <td>1.0</td>\n",
       "      <td>2012.0</td>\n",
       "      <td>0.0</td>\n",
       "      <td>33.862909</td>\n",
       "      <td>-3.343508</td>\n",
       "      <td>635.738972</td>\n",
       "      <td>1998.610383</td>\n",
       "    </tr>\n",
       "    <tr>\n",
       "      <th>17424</th>\n",
       "      <td>2.0</td>\n",
       "      <td>11.0</td>\n",
       "      <td>1.0</td>\n",
       "      <td>6.0</td>\n",
       "      <td>6.0</td>\n",
       "      <td>9.0</td>\n",
       "      <td>0.0</td>\n",
       "      <td>0.0</td>\n",
       "      <td>1.0</td>\n",
       "      <td>0.0</td>\n",
       "      <td>...</td>\n",
       "      <td>0.0</td>\n",
       "      <td>0.0</td>\n",
       "      <td>0.0</td>\n",
       "      <td>0.0</td>\n",
       "      <td>2011.0</td>\n",
       "      <td>0.0</td>\n",
       "      <td>30.658472</td>\n",
       "      <td>-2.530397</td>\n",
       "      <td>386.754728</td>\n",
       "      <td>1985.594792</td>\n",
       "    </tr>\n",
       "  </tbody>\n",
       "</table>\n",
       "<p>17425 rows × 24 columns</p>\n",
       "</div>"
      ],
      "text/plain": [
       "         0     1    2     3     4    5    6    7    8    9   ...   14   15  \\\n",
       "0       1.0   2.0  6.0   5.0   5.0  4.0  0.0  1.0  1.0  2.0  ...  2.0  1.0   \n",
       "1       1.0   2.0  3.0   4.0   4.0  0.0  0.0  2.0  0.0  0.0  ...  0.0  2.0   \n",
       "2       2.0   0.0  1.0   7.0   7.0  0.0  0.0  6.0  0.0  0.0  ...  2.0  4.0   \n",
       "3       0.0   3.0  0.0  10.0  10.0  0.0  0.0  0.0  1.0  0.0  ...  1.0  0.0   \n",
       "4       2.0   0.0  1.0  13.0  13.0  3.0  0.0  1.0  1.0  2.0  ...  0.0  1.0   \n",
       "...     ...   ...  ...   ...   ...  ...  ...  ...  ...  ...  ...  ...  ...   \n",
       "17420   0.0   0.0  0.0   9.0   9.0  0.0  0.0  0.0  0.0  0.0  ...  1.0  0.0   \n",
       "17421  19.0   0.0  2.0   1.0   1.0  3.0  0.0  0.0  1.0  0.0  ...  0.0  2.0   \n",
       "17422  22.0   6.0  8.0  14.0  14.0  4.0  0.0  0.0  1.0  1.0  ...  1.0  1.0   \n",
       "17423   5.0  14.0  4.0   0.0   0.0  0.0  0.0  1.0  1.0  1.0  ...  0.0  1.0   \n",
       "17424   2.0  11.0  1.0   6.0   6.0  9.0  0.0  0.0  1.0  0.0  ...  0.0  0.0   \n",
       "\n",
       "        16   17      18      19         20         21          22           23  \n",
       "0      0.0  2.0  2013.0  1094.0  35.793151 -10.583440  300.000000  1987.000000  \n",
       "1      1.0  0.0  2013.0  1416.0  30.076793  -4.321938  540.000000  2006.000000  \n",
       "2      1.0  0.0  2011.0     0.0  33.483571  -2.520417  595.240644  1985.593858  \n",
       "3      0.0  0.0  2011.0   295.0  38.536401  -5.006737   75.000000  1972.000000  \n",
       "4      0.0  2.0  2012.0  1281.0  33.964612  -1.997276  250.000000  1989.000000  \n",
       "...    ...  ...     ...     ...        ...        ...         ...          ...  \n",
       "17420  0.0  0.0  2013.0   976.0  36.841507  -3.493668  150.000000  1989.032690  \n",
       "17421  1.0  0.0  2011.0  1366.0  35.083920  -9.068121   50.000000  2008.000000  \n",
       "17422  0.0  1.0  2011.0     0.0  35.911264  -6.091230  210.203755  1995.583915  \n",
       "17423  0.0  1.0  2012.0     0.0  33.862909  -3.343508  635.738972  1998.610383  \n",
       "17424  0.0  0.0  2011.0     0.0  30.658472  -2.530397  386.754728  1985.594792  \n",
       "\n",
       "[17425 rows x 24 columns]"
      ]
     },
     "execution_count": 198,
     "metadata": {},
     "output_type": "execute_result"
    }
   ],
   "source": [
    "X_train_imputed = pd.DataFrame(X_train_imputed)\n",
    "X_train_imputed"
   ]
  },
  {
   "cell_type": "markdown",
   "metadata": {},
   "source": [
    "### Dropping Unnecessary Column\n",
    "\n",
    "Once again when saving the DataFrame as a .csv file an extra column was added."
   ]
  },
  {
   "cell_type": "code",
   "execution_count": 199,
   "metadata": {
    "scrolled": true
   },
   "outputs": [
    {
     "data": {
      "text/html": [
       "<div>\n",
       "<style scoped>\n",
       "    .dataframe tbody tr th:only-of-type {\n",
       "        vertical-align: middle;\n",
       "    }\n",
       "\n",
       "    .dataframe tbody tr th {\n",
       "        vertical-align: top;\n",
       "    }\n",
       "\n",
       "    .dataframe thead th {\n",
       "        text-align: right;\n",
       "    }\n",
       "</style>\n",
       "<table border=\"1\" class=\"dataframe\">\n",
       "  <thead>\n",
       "    <tr style=\"text-align: right;\">\n",
       "      <th></th>\n",
       "      <th>0</th>\n",
       "      <th>1</th>\n",
       "      <th>2</th>\n",
       "      <th>3</th>\n",
       "      <th>4</th>\n",
       "      <th>5</th>\n",
       "      <th>6</th>\n",
       "      <th>7</th>\n",
       "      <th>8</th>\n",
       "      <th>9</th>\n",
       "      <th>...</th>\n",
       "      <th>14</th>\n",
       "      <th>15</th>\n",
       "      <th>16</th>\n",
       "      <th>17</th>\n",
       "      <th>18</th>\n",
       "      <th>19</th>\n",
       "      <th>20</th>\n",
       "      <th>21</th>\n",
       "      <th>22</th>\n",
       "      <th>23</th>\n",
       "    </tr>\n",
       "  </thead>\n",
       "  <tbody>\n",
       "    <tr>\n",
       "      <th>0</th>\n",
       "      <td>1.0</td>\n",
       "      <td>2.0</td>\n",
       "      <td>6.0</td>\n",
       "      <td>5.0</td>\n",
       "      <td>5.0</td>\n",
       "      <td>4.0</td>\n",
       "      <td>0.0</td>\n",
       "      <td>1.0</td>\n",
       "      <td>1.0</td>\n",
       "      <td>2.0</td>\n",
       "      <td>...</td>\n",
       "      <td>2.0</td>\n",
       "      <td>1.0</td>\n",
       "      <td>0.0</td>\n",
       "      <td>2.0</td>\n",
       "      <td>2013.0</td>\n",
       "      <td>1094.0</td>\n",
       "      <td>35.793151</td>\n",
       "      <td>-10.583440</td>\n",
       "      <td>300.000000</td>\n",
       "      <td>1987.000000</td>\n",
       "    </tr>\n",
       "    <tr>\n",
       "      <th>1</th>\n",
       "      <td>1.0</td>\n",
       "      <td>2.0</td>\n",
       "      <td>3.0</td>\n",
       "      <td>4.0</td>\n",
       "      <td>4.0</td>\n",
       "      <td>0.0</td>\n",
       "      <td>0.0</td>\n",
       "      <td>2.0</td>\n",
       "      <td>0.0</td>\n",
       "      <td>0.0</td>\n",
       "      <td>...</td>\n",
       "      <td>0.0</td>\n",
       "      <td>2.0</td>\n",
       "      <td>1.0</td>\n",
       "      <td>0.0</td>\n",
       "      <td>2013.0</td>\n",
       "      <td>1416.0</td>\n",
       "      <td>30.076793</td>\n",
       "      <td>-4.321938</td>\n",
       "      <td>540.000000</td>\n",
       "      <td>2006.000000</td>\n",
       "    </tr>\n",
       "    <tr>\n",
       "      <th>2</th>\n",
       "      <td>2.0</td>\n",
       "      <td>0.0</td>\n",
       "      <td>1.0</td>\n",
       "      <td>7.0</td>\n",
       "      <td>7.0</td>\n",
       "      <td>0.0</td>\n",
       "      <td>0.0</td>\n",
       "      <td>6.0</td>\n",
       "      <td>0.0</td>\n",
       "      <td>0.0</td>\n",
       "      <td>...</td>\n",
       "      <td>2.0</td>\n",
       "      <td>4.0</td>\n",
       "      <td>1.0</td>\n",
       "      <td>0.0</td>\n",
       "      <td>2011.0</td>\n",
       "      <td>0.0</td>\n",
       "      <td>33.483571</td>\n",
       "      <td>-2.520417</td>\n",
       "      <td>595.240644</td>\n",
       "      <td>1985.593858</td>\n",
       "    </tr>\n",
       "    <tr>\n",
       "      <th>3</th>\n",
       "      <td>0.0</td>\n",
       "      <td>3.0</td>\n",
       "      <td>0.0</td>\n",
       "      <td>10.0</td>\n",
       "      <td>10.0</td>\n",
       "      <td>0.0</td>\n",
       "      <td>0.0</td>\n",
       "      <td>0.0</td>\n",
       "      <td>1.0</td>\n",
       "      <td>0.0</td>\n",
       "      <td>...</td>\n",
       "      <td>1.0</td>\n",
       "      <td>0.0</td>\n",
       "      <td>0.0</td>\n",
       "      <td>0.0</td>\n",
       "      <td>2011.0</td>\n",
       "      <td>295.0</td>\n",
       "      <td>38.536401</td>\n",
       "      <td>-5.006737</td>\n",
       "      <td>75.000000</td>\n",
       "      <td>1972.000000</td>\n",
       "    </tr>\n",
       "    <tr>\n",
       "      <th>4</th>\n",
       "      <td>2.0</td>\n",
       "      <td>0.0</td>\n",
       "      <td>1.0</td>\n",
       "      <td>13.0</td>\n",
       "      <td>13.0</td>\n",
       "      <td>3.0</td>\n",
       "      <td>0.0</td>\n",
       "      <td>1.0</td>\n",
       "      <td>1.0</td>\n",
       "      <td>2.0</td>\n",
       "      <td>...</td>\n",
       "      <td>0.0</td>\n",
       "      <td>1.0</td>\n",
       "      <td>0.0</td>\n",
       "      <td>2.0</td>\n",
       "      <td>2012.0</td>\n",
       "      <td>1281.0</td>\n",
       "      <td>33.964612</td>\n",
       "      <td>-1.997276</td>\n",
       "      <td>250.000000</td>\n",
       "      <td>1989.000000</td>\n",
       "    </tr>\n",
       "    <tr>\n",
       "      <th>...</th>\n",
       "      <td>...</td>\n",
       "      <td>...</td>\n",
       "      <td>...</td>\n",
       "      <td>...</td>\n",
       "      <td>...</td>\n",
       "      <td>...</td>\n",
       "      <td>...</td>\n",
       "      <td>...</td>\n",
       "      <td>...</td>\n",
       "      <td>...</td>\n",
       "      <td>...</td>\n",
       "      <td>...</td>\n",
       "      <td>...</td>\n",
       "      <td>...</td>\n",
       "      <td>...</td>\n",
       "      <td>...</td>\n",
       "      <td>...</td>\n",
       "      <td>...</td>\n",
       "      <td>...</td>\n",
       "      <td>...</td>\n",
       "      <td>...</td>\n",
       "    </tr>\n",
       "    <tr>\n",
       "      <th>17420</th>\n",
       "      <td>0.0</td>\n",
       "      <td>0.0</td>\n",
       "      <td>0.0</td>\n",
       "      <td>9.0</td>\n",
       "      <td>9.0</td>\n",
       "      <td>0.0</td>\n",
       "      <td>0.0</td>\n",
       "      <td>0.0</td>\n",
       "      <td>0.0</td>\n",
       "      <td>0.0</td>\n",
       "      <td>...</td>\n",
       "      <td>1.0</td>\n",
       "      <td>0.0</td>\n",
       "      <td>0.0</td>\n",
       "      <td>0.0</td>\n",
       "      <td>2013.0</td>\n",
       "      <td>976.0</td>\n",
       "      <td>36.841507</td>\n",
       "      <td>-3.493668</td>\n",
       "      <td>150.000000</td>\n",
       "      <td>1989.032690</td>\n",
       "    </tr>\n",
       "    <tr>\n",
       "      <th>17421</th>\n",
       "      <td>19.0</td>\n",
       "      <td>0.0</td>\n",
       "      <td>2.0</td>\n",
       "      <td>1.0</td>\n",
       "      <td>1.0</td>\n",
       "      <td>3.0</td>\n",
       "      <td>0.0</td>\n",
       "      <td>0.0</td>\n",
       "      <td>1.0</td>\n",
       "      <td>0.0</td>\n",
       "      <td>...</td>\n",
       "      <td>0.0</td>\n",
       "      <td>2.0</td>\n",
       "      <td>1.0</td>\n",
       "      <td>0.0</td>\n",
       "      <td>2011.0</td>\n",
       "      <td>1366.0</td>\n",
       "      <td>35.083920</td>\n",
       "      <td>-9.068121</td>\n",
       "      <td>50.000000</td>\n",
       "      <td>2008.000000</td>\n",
       "    </tr>\n",
       "    <tr>\n",
       "      <th>17422</th>\n",
       "      <td>22.0</td>\n",
       "      <td>6.0</td>\n",
       "      <td>8.0</td>\n",
       "      <td>14.0</td>\n",
       "      <td>14.0</td>\n",
       "      <td>4.0</td>\n",
       "      <td>0.0</td>\n",
       "      <td>0.0</td>\n",
       "      <td>1.0</td>\n",
       "      <td>1.0</td>\n",
       "      <td>...</td>\n",
       "      <td>1.0</td>\n",
       "      <td>1.0</td>\n",
       "      <td>0.0</td>\n",
       "      <td>1.0</td>\n",
       "      <td>2011.0</td>\n",
       "      <td>0.0</td>\n",
       "      <td>35.911264</td>\n",
       "      <td>-6.091230</td>\n",
       "      <td>210.203755</td>\n",
       "      <td>1995.583915</td>\n",
       "    </tr>\n",
       "    <tr>\n",
       "      <th>17423</th>\n",
       "      <td>5.0</td>\n",
       "      <td>14.0</td>\n",
       "      <td>4.0</td>\n",
       "      <td>0.0</td>\n",
       "      <td>0.0</td>\n",
       "      <td>0.0</td>\n",
       "      <td>0.0</td>\n",
       "      <td>1.0</td>\n",
       "      <td>1.0</td>\n",
       "      <td>1.0</td>\n",
       "      <td>...</td>\n",
       "      <td>0.0</td>\n",
       "      <td>1.0</td>\n",
       "      <td>0.0</td>\n",
       "      <td>1.0</td>\n",
       "      <td>2012.0</td>\n",
       "      <td>0.0</td>\n",
       "      <td>33.862909</td>\n",
       "      <td>-3.343508</td>\n",
       "      <td>635.738972</td>\n",
       "      <td>1998.610383</td>\n",
       "    </tr>\n",
       "    <tr>\n",
       "      <th>17424</th>\n",
       "      <td>2.0</td>\n",
       "      <td>11.0</td>\n",
       "      <td>1.0</td>\n",
       "      <td>6.0</td>\n",
       "      <td>6.0</td>\n",
       "      <td>9.0</td>\n",
       "      <td>0.0</td>\n",
       "      <td>0.0</td>\n",
       "      <td>1.0</td>\n",
       "      <td>0.0</td>\n",
       "      <td>...</td>\n",
       "      <td>0.0</td>\n",
       "      <td>0.0</td>\n",
       "      <td>0.0</td>\n",
       "      <td>0.0</td>\n",
       "      <td>2011.0</td>\n",
       "      <td>0.0</td>\n",
       "      <td>30.658472</td>\n",
       "      <td>-2.530397</td>\n",
       "      <td>386.754728</td>\n",
       "      <td>1985.594792</td>\n",
       "    </tr>\n",
       "  </tbody>\n",
       "</table>\n",
       "<p>17425 rows × 24 columns</p>\n",
       "</div>"
      ],
      "text/plain": [
       "         0     1    2     3     4    5    6    7    8    9   ...   14   15  \\\n",
       "0       1.0   2.0  6.0   5.0   5.0  4.0  0.0  1.0  1.0  2.0  ...  2.0  1.0   \n",
       "1       1.0   2.0  3.0   4.0   4.0  0.0  0.0  2.0  0.0  0.0  ...  0.0  2.0   \n",
       "2       2.0   0.0  1.0   7.0   7.0  0.0  0.0  6.0  0.0  0.0  ...  2.0  4.0   \n",
       "3       0.0   3.0  0.0  10.0  10.0  0.0  0.0  0.0  1.0  0.0  ...  1.0  0.0   \n",
       "4       2.0   0.0  1.0  13.0  13.0  3.0  0.0  1.0  1.0  2.0  ...  0.0  1.0   \n",
       "...     ...   ...  ...   ...   ...  ...  ...  ...  ...  ...  ...  ...  ...   \n",
       "17420   0.0   0.0  0.0   9.0   9.0  0.0  0.0  0.0  0.0  0.0  ...  1.0  0.0   \n",
       "17421  19.0   0.0  2.0   1.0   1.0  3.0  0.0  0.0  1.0  0.0  ...  0.0  2.0   \n",
       "17422  22.0   6.0  8.0  14.0  14.0  4.0  0.0  0.0  1.0  1.0  ...  1.0  1.0   \n",
       "17423   5.0  14.0  4.0   0.0   0.0  0.0  0.0  1.0  1.0  1.0  ...  0.0  1.0   \n",
       "17424   2.0  11.0  1.0   6.0   6.0  9.0  0.0  0.0  1.0  0.0  ...  0.0  0.0   \n",
       "\n",
       "        16   17      18      19         20         21          22           23  \n",
       "0      0.0  2.0  2013.0  1094.0  35.793151 -10.583440  300.000000  1987.000000  \n",
       "1      1.0  0.0  2013.0  1416.0  30.076793  -4.321938  540.000000  2006.000000  \n",
       "2      1.0  0.0  2011.0     0.0  33.483571  -2.520417  595.240644  1985.593858  \n",
       "3      0.0  0.0  2011.0   295.0  38.536401  -5.006737   75.000000  1972.000000  \n",
       "4      0.0  2.0  2012.0  1281.0  33.964612  -1.997276  250.000000  1989.000000  \n",
       "...    ...  ...     ...     ...        ...        ...         ...          ...  \n",
       "17420  0.0  0.0  2013.0   976.0  36.841507  -3.493668  150.000000  1989.032690  \n",
       "17421  1.0  0.0  2011.0  1366.0  35.083920  -9.068121   50.000000  2008.000000  \n",
       "17422  0.0  1.0  2011.0     0.0  35.911264  -6.091230  210.203755  1995.583915  \n",
       "17423  0.0  1.0  2012.0     0.0  33.862909  -3.343508  635.738972  1998.610383  \n",
       "17424  0.0  0.0  2011.0     0.0  30.658472  -2.530397  386.754728  1985.594792  \n",
       "\n",
       "[17425 rows x 24 columns]"
      ]
     },
     "execution_count": 199,
     "metadata": {},
     "output_type": "execute_result"
    }
   ],
   "source": [
    "#X_train_imputed = X_train_imputed.drop('Unnamed: 0', axis=1)\n",
    "X_train_imputed"
   ]
  },
  {
   "cell_type": "markdown",
   "metadata": {},
   "source": [
    "### Need Column Names\n",
    "\n",
    "The imputer took care of the null values but the column names were lost in the process."
   ]
  },
  {
   "cell_type": "code",
   "execution_count": 200,
   "metadata": {},
   "outputs": [],
   "source": [
    "#Renaming all the columns\n",
    "X_train_imputed.rename(columns={0: 'funder', 1: 'installer', 2: 'basin',\n",
    "                                  3: 'region', 4: 'region_code', 5: 'district_code',\n",
    "                                  6: 'public_meeting', 7: 'scheme_management', 8: 'permit',\n",
    "                                  9: 'extraction_type_class', 10: 'management', 11: 'management_group', 12: \n",
    "                                  'payment', 13: 'quality_group', 14: 'quantity', 15: 'source',\n",
    "                                  16: 'source_class', 17: 'waterpoint_type_group', 18: \n",
    "                                  'date_recorded', 19: 'gps_height', 20: 'longitude', 21: 'latitude', 22: 'population',\n",
    "                                  23: 'construction_year'}, inplace=True)"
   ]
  },
  {
   "cell_type": "markdown",
   "metadata": {},
   "source": [
    "### Change All Categorical Columns Back to Strings\n",
    "\n",
    "The numbers in all of the categorical columns don't make any sense right now but we can turn them back to what they were."
   ]
  },
  {
   "cell_type": "code",
   "execution_count": 201,
   "metadata": {},
   "outputs": [],
   "source": [
    "def revert_back_to_strings(df, columns):\n",
    "    #Creates a copy of the DataFrame so it isn't overwriting the original\n",
    "    df_copy = df.copy()\n",
    "    \n",
    "    #looping through all columns given and changes the number back to the string it represents based off a dictionary zipped\n",
    "    #from one list of the .value_counts() from df_small_small and another list that creates an index of the first\n",
    "    for col in columns:\n",
    "        column_vc = list(df_small_small[col].value_counts().index)\n",
    "        column_rank = list(range(len(column_vc)))\n",
    "    \n",
    "        column_vc_rank = dict(zip(column_rank, column_vc))\n",
    "    \n",
    "        df_copy[col] = df_copy[col].replace(column_vc_rank)\n",
    "    \n",
    "    return df_copy"
   ]
  },
  {
   "cell_type": "markdown",
   "metadata": {},
   "source": [
    "### Creating a List of Columns to Feed the Function"
   ]
  },
  {
   "cell_type": "code",
   "execution_count": 202,
   "metadata": {},
   "outputs": [],
   "source": [
    "#Creating a list of all column names in X_train_imputed\n",
    "revert_columns = list(X_train_imputed.columns)\n",
    "#Only taking the categorical columns from that list\n",
    "revert_columns = revert_columns[:18]"
   ]
  },
  {
   "cell_type": "markdown",
   "metadata": {},
   "source": [
    "### Using the Function"
   ]
  },
  {
   "cell_type": "code",
   "execution_count": 203,
   "metadata": {
    "scrolled": true
   },
   "outputs": [
    {
     "data": {
      "text/html": [
       "<div>\n",
       "<style scoped>\n",
       "    .dataframe tbody tr th:only-of-type {\n",
       "        vertical-align: middle;\n",
       "    }\n",
       "\n",
       "    .dataframe tbody tr th {\n",
       "        vertical-align: top;\n",
       "    }\n",
       "\n",
       "    .dataframe thead th {\n",
       "        text-align: right;\n",
       "    }\n",
       "</style>\n",
       "<table border=\"1\" class=\"dataframe\">\n",
       "  <thead>\n",
       "    <tr style=\"text-align: right;\">\n",
       "      <th></th>\n",
       "      <th>funder</th>\n",
       "      <th>installer</th>\n",
       "      <th>basin</th>\n",
       "      <th>region</th>\n",
       "      <th>region_code</th>\n",
       "      <th>district_code</th>\n",
       "      <th>public_meeting</th>\n",
       "      <th>scheme_management</th>\n",
       "      <th>permit</th>\n",
       "      <th>extraction_type_class</th>\n",
       "      <th>...</th>\n",
       "      <th>quantity</th>\n",
       "      <th>source</th>\n",
       "      <th>source_class</th>\n",
       "      <th>waterpoint_type_group</th>\n",
       "      <th>date_recorded</th>\n",
       "      <th>gps_height</th>\n",
       "      <th>longitude</th>\n",
       "      <th>latitude</th>\n",
       "      <th>population</th>\n",
       "      <th>construction_year</th>\n",
       "    </tr>\n",
       "  </thead>\n",
       "  <tbody>\n",
       "    <tr>\n",
       "      <th>0</th>\n",
       "      <td>1.0</td>\n",
       "      <td>2.0</td>\n",
       "      <td>6.0</td>\n",
       "      <td>5.0</td>\n",
       "      <td>5.0</td>\n",
       "      <td>4.0</td>\n",
       "      <td>0.0</td>\n",
       "      <td>1.0</td>\n",
       "      <td>1.0</td>\n",
       "      <td>2.0</td>\n",
       "      <td>...</td>\n",
       "      <td>2.0</td>\n",
       "      <td>1.0</td>\n",
       "      <td>0.0</td>\n",
       "      <td>2.0</td>\n",
       "      <td>2013.0</td>\n",
       "      <td>1094.0</td>\n",
       "      <td>35.793151</td>\n",
       "      <td>-10.583440</td>\n",
       "      <td>300.000000</td>\n",
       "      <td>1987.000000</td>\n",
       "    </tr>\n",
       "    <tr>\n",
       "      <th>1</th>\n",
       "      <td>1.0</td>\n",
       "      <td>2.0</td>\n",
       "      <td>3.0</td>\n",
       "      <td>4.0</td>\n",
       "      <td>4.0</td>\n",
       "      <td>0.0</td>\n",
       "      <td>0.0</td>\n",
       "      <td>2.0</td>\n",
       "      <td>0.0</td>\n",
       "      <td>0.0</td>\n",
       "      <td>...</td>\n",
       "      <td>0.0</td>\n",
       "      <td>2.0</td>\n",
       "      <td>1.0</td>\n",
       "      <td>0.0</td>\n",
       "      <td>2013.0</td>\n",
       "      <td>1416.0</td>\n",
       "      <td>30.076793</td>\n",
       "      <td>-4.321938</td>\n",
       "      <td>540.000000</td>\n",
       "      <td>2006.000000</td>\n",
       "    </tr>\n",
       "    <tr>\n",
       "      <th>2</th>\n",
       "      <td>2.0</td>\n",
       "      <td>0.0</td>\n",
       "      <td>1.0</td>\n",
       "      <td>7.0</td>\n",
       "      <td>7.0</td>\n",
       "      <td>0.0</td>\n",
       "      <td>0.0</td>\n",
       "      <td>6.0</td>\n",
       "      <td>0.0</td>\n",
       "      <td>0.0</td>\n",
       "      <td>...</td>\n",
       "      <td>2.0</td>\n",
       "      <td>4.0</td>\n",
       "      <td>1.0</td>\n",
       "      <td>0.0</td>\n",
       "      <td>2011.0</td>\n",
       "      <td>0.0</td>\n",
       "      <td>33.483571</td>\n",
       "      <td>-2.520417</td>\n",
       "      <td>595.240644</td>\n",
       "      <td>1985.593858</td>\n",
       "    </tr>\n",
       "    <tr>\n",
       "      <th>3</th>\n",
       "      <td>0.0</td>\n",
       "      <td>3.0</td>\n",
       "      <td>0.0</td>\n",
       "      <td>10.0</td>\n",
       "      <td>10.0</td>\n",
       "      <td>0.0</td>\n",
       "      <td>0.0</td>\n",
       "      <td>0.0</td>\n",
       "      <td>1.0</td>\n",
       "      <td>0.0</td>\n",
       "      <td>...</td>\n",
       "      <td>1.0</td>\n",
       "      <td>0.0</td>\n",
       "      <td>0.0</td>\n",
       "      <td>0.0</td>\n",
       "      <td>2011.0</td>\n",
       "      <td>295.0</td>\n",
       "      <td>38.536401</td>\n",
       "      <td>-5.006737</td>\n",
       "      <td>75.000000</td>\n",
       "      <td>1972.000000</td>\n",
       "    </tr>\n",
       "    <tr>\n",
       "      <th>4</th>\n",
       "      <td>2.0</td>\n",
       "      <td>0.0</td>\n",
       "      <td>1.0</td>\n",
       "      <td>13.0</td>\n",
       "      <td>13.0</td>\n",
       "      <td>3.0</td>\n",
       "      <td>0.0</td>\n",
       "      <td>1.0</td>\n",
       "      <td>1.0</td>\n",
       "      <td>2.0</td>\n",
       "      <td>...</td>\n",
       "      <td>0.0</td>\n",
       "      <td>1.0</td>\n",
       "      <td>0.0</td>\n",
       "      <td>2.0</td>\n",
       "      <td>2012.0</td>\n",
       "      <td>1281.0</td>\n",
       "      <td>33.964612</td>\n",
       "      <td>-1.997276</td>\n",
       "      <td>250.000000</td>\n",
       "      <td>1989.000000</td>\n",
       "    </tr>\n",
       "    <tr>\n",
       "      <th>...</th>\n",
       "      <td>...</td>\n",
       "      <td>...</td>\n",
       "      <td>...</td>\n",
       "      <td>...</td>\n",
       "      <td>...</td>\n",
       "      <td>...</td>\n",
       "      <td>...</td>\n",
       "      <td>...</td>\n",
       "      <td>...</td>\n",
       "      <td>...</td>\n",
       "      <td>...</td>\n",
       "      <td>...</td>\n",
       "      <td>...</td>\n",
       "      <td>...</td>\n",
       "      <td>...</td>\n",
       "      <td>...</td>\n",
       "      <td>...</td>\n",
       "      <td>...</td>\n",
       "      <td>...</td>\n",
       "      <td>...</td>\n",
       "      <td>...</td>\n",
       "    </tr>\n",
       "    <tr>\n",
       "      <th>17420</th>\n",
       "      <td>0.0</td>\n",
       "      <td>0.0</td>\n",
       "      <td>0.0</td>\n",
       "      <td>9.0</td>\n",
       "      <td>9.0</td>\n",
       "      <td>0.0</td>\n",
       "      <td>0.0</td>\n",
       "      <td>0.0</td>\n",
       "      <td>0.0</td>\n",
       "      <td>0.0</td>\n",
       "      <td>...</td>\n",
       "      <td>1.0</td>\n",
       "      <td>0.0</td>\n",
       "      <td>0.0</td>\n",
       "      <td>0.0</td>\n",
       "      <td>2013.0</td>\n",
       "      <td>976.0</td>\n",
       "      <td>36.841507</td>\n",
       "      <td>-3.493668</td>\n",
       "      <td>150.000000</td>\n",
       "      <td>1989.032690</td>\n",
       "    </tr>\n",
       "    <tr>\n",
       "      <th>17421</th>\n",
       "      <td>19.0</td>\n",
       "      <td>0.0</td>\n",
       "      <td>2.0</td>\n",
       "      <td>1.0</td>\n",
       "      <td>1.0</td>\n",
       "      <td>3.0</td>\n",
       "      <td>0.0</td>\n",
       "      <td>0.0</td>\n",
       "      <td>1.0</td>\n",
       "      <td>0.0</td>\n",
       "      <td>...</td>\n",
       "      <td>0.0</td>\n",
       "      <td>2.0</td>\n",
       "      <td>1.0</td>\n",
       "      <td>0.0</td>\n",
       "      <td>2011.0</td>\n",
       "      <td>1366.0</td>\n",
       "      <td>35.083920</td>\n",
       "      <td>-9.068121</td>\n",
       "      <td>50.000000</td>\n",
       "      <td>2008.000000</td>\n",
       "    </tr>\n",
       "    <tr>\n",
       "      <th>17422</th>\n",
       "      <td>22.0</td>\n",
       "      <td>6.0</td>\n",
       "      <td>8.0</td>\n",
       "      <td>14.0</td>\n",
       "      <td>14.0</td>\n",
       "      <td>4.0</td>\n",
       "      <td>0.0</td>\n",
       "      <td>0.0</td>\n",
       "      <td>1.0</td>\n",
       "      <td>1.0</td>\n",
       "      <td>...</td>\n",
       "      <td>1.0</td>\n",
       "      <td>1.0</td>\n",
       "      <td>0.0</td>\n",
       "      <td>1.0</td>\n",
       "      <td>2011.0</td>\n",
       "      <td>0.0</td>\n",
       "      <td>35.911264</td>\n",
       "      <td>-6.091230</td>\n",
       "      <td>210.203755</td>\n",
       "      <td>1995.583915</td>\n",
       "    </tr>\n",
       "    <tr>\n",
       "      <th>17423</th>\n",
       "      <td>5.0</td>\n",
       "      <td>14.0</td>\n",
       "      <td>4.0</td>\n",
       "      <td>0.0</td>\n",
       "      <td>0.0</td>\n",
       "      <td>0.0</td>\n",
       "      <td>0.0</td>\n",
       "      <td>1.0</td>\n",
       "      <td>1.0</td>\n",
       "      <td>1.0</td>\n",
       "      <td>...</td>\n",
       "      <td>0.0</td>\n",
       "      <td>1.0</td>\n",
       "      <td>0.0</td>\n",
       "      <td>1.0</td>\n",
       "      <td>2012.0</td>\n",
       "      <td>0.0</td>\n",
       "      <td>33.862909</td>\n",
       "      <td>-3.343508</td>\n",
       "      <td>635.738972</td>\n",
       "      <td>1998.610383</td>\n",
       "    </tr>\n",
       "    <tr>\n",
       "      <th>17424</th>\n",
       "      <td>2.0</td>\n",
       "      <td>11.0</td>\n",
       "      <td>1.0</td>\n",
       "      <td>6.0</td>\n",
       "      <td>6.0</td>\n",
       "      <td>9.0</td>\n",
       "      <td>0.0</td>\n",
       "      <td>0.0</td>\n",
       "      <td>1.0</td>\n",
       "      <td>0.0</td>\n",
       "      <td>...</td>\n",
       "      <td>0.0</td>\n",
       "      <td>0.0</td>\n",
       "      <td>0.0</td>\n",
       "      <td>0.0</td>\n",
       "      <td>2011.0</td>\n",
       "      <td>0.0</td>\n",
       "      <td>30.658472</td>\n",
       "      <td>-2.530397</td>\n",
       "      <td>386.754728</td>\n",
       "      <td>1985.594792</td>\n",
       "    </tr>\n",
       "  </tbody>\n",
       "</table>\n",
       "<p>17425 rows × 24 columns</p>\n",
       "</div>"
      ],
      "text/plain": [
       "       funder  installer  basin  region  region_code  district_code  \\\n",
       "0         1.0        2.0    6.0     5.0          5.0            4.0   \n",
       "1         1.0        2.0    3.0     4.0          4.0            0.0   \n",
       "2         2.0        0.0    1.0     7.0          7.0            0.0   \n",
       "3         0.0        3.0    0.0    10.0         10.0            0.0   \n",
       "4         2.0        0.0    1.0    13.0         13.0            3.0   \n",
       "...       ...        ...    ...     ...          ...            ...   \n",
       "17420     0.0        0.0    0.0     9.0          9.0            0.0   \n",
       "17421    19.0        0.0    2.0     1.0          1.0            3.0   \n",
       "17422    22.0        6.0    8.0    14.0         14.0            4.0   \n",
       "17423     5.0       14.0    4.0     0.0          0.0            0.0   \n",
       "17424     2.0       11.0    1.0     6.0          6.0            9.0   \n",
       "\n",
       "       public_meeting  scheme_management  permit  extraction_type_class  ...  \\\n",
       "0                 0.0                1.0     1.0                    2.0  ...   \n",
       "1                 0.0                2.0     0.0                    0.0  ...   \n",
       "2                 0.0                6.0     0.0                    0.0  ...   \n",
       "3                 0.0                0.0     1.0                    0.0  ...   \n",
       "4                 0.0                1.0     1.0                    2.0  ...   \n",
       "...               ...                ...     ...                    ...  ...   \n",
       "17420             0.0                0.0     0.0                    0.0  ...   \n",
       "17421             0.0                0.0     1.0                    0.0  ...   \n",
       "17422             0.0                0.0     1.0                    1.0  ...   \n",
       "17423             0.0                1.0     1.0                    1.0  ...   \n",
       "17424             0.0                0.0     1.0                    0.0  ...   \n",
       "\n",
       "       quantity  source  source_class  waterpoint_type_group  date_recorded  \\\n",
       "0           2.0     1.0           0.0                    2.0         2013.0   \n",
       "1           0.0     2.0           1.0                    0.0         2013.0   \n",
       "2           2.0     4.0           1.0                    0.0         2011.0   \n",
       "3           1.0     0.0           0.0                    0.0         2011.0   \n",
       "4           0.0     1.0           0.0                    2.0         2012.0   \n",
       "...         ...     ...           ...                    ...            ...   \n",
       "17420       1.0     0.0           0.0                    0.0         2013.0   \n",
       "17421       0.0     2.0           1.0                    0.0         2011.0   \n",
       "17422       1.0     1.0           0.0                    1.0         2011.0   \n",
       "17423       0.0     1.0           0.0                    1.0         2012.0   \n",
       "17424       0.0     0.0           0.0                    0.0         2011.0   \n",
       "\n",
       "       gps_height  longitude   latitude  population  construction_year  \n",
       "0          1094.0  35.793151 -10.583440  300.000000        1987.000000  \n",
       "1          1416.0  30.076793  -4.321938  540.000000        2006.000000  \n",
       "2             0.0  33.483571  -2.520417  595.240644        1985.593858  \n",
       "3           295.0  38.536401  -5.006737   75.000000        1972.000000  \n",
       "4          1281.0  33.964612  -1.997276  250.000000        1989.000000  \n",
       "...           ...        ...        ...         ...                ...  \n",
       "17420       976.0  36.841507  -3.493668  150.000000        1989.032690  \n",
       "17421      1366.0  35.083920  -9.068121   50.000000        2008.000000  \n",
       "17422         0.0  35.911264  -6.091230  210.203755        1995.583915  \n",
       "17423         0.0  33.862909  -3.343508  635.738972        1998.610383  \n",
       "17424         0.0  30.658472  -2.530397  386.754728        1985.594792  \n",
       "\n",
       "[17425 rows x 24 columns]"
      ]
     },
     "execution_count": 203,
     "metadata": {},
     "output_type": "execute_result"
    }
   ],
   "source": [
    "#Using the function on all categorical columns in X_train_imputed\n",
    "#X_train_imputed = revert_back_to_strings(X_train_imputed, revert_columns)\n",
    "X_train_imputed"
   ]
  },
  {
   "cell_type": "markdown",
   "metadata": {},
   "source": [
    "### Imputing `X_test`\n",
    "\n",
    "This is commented out because it takes a long time to run. It was saved as a .csv file for easier access but can be ran if needed."
   ]
  },
  {
   "cell_type": "code",
   "execution_count": 204,
   "metadata": {},
   "outputs": [
    {
     "name": "stdout",
     "output_type": "stream",
     "text": [
      "Iteration: 0\n",
      "Iteration: 1\n",
      "Iteration: 2\n",
      "Iteration: 3\n"
     ]
    }
   ],
   "source": [
    "X_test_imputed = imputer.transform(X_test)"
   ]
  },
  {
   "cell_type": "markdown",
   "metadata": {},
   "source": [
    "### Loading in `X_test_imputed`\n",
    "\n",
    "Once again an unnecessary column was added and now it will be dropped."
   ]
  },
  {
   "cell_type": "code",
   "execution_count": 205,
   "metadata": {},
   "outputs": [],
   "source": [
    "#X_test_imputed = pd.read_csv('../Dev_Notebooks/X_test_imputed.csv')"
   ]
  },
  {
   "cell_type": "code",
   "execution_count": 206,
   "metadata": {},
   "outputs": [],
   "source": [
    "#Dropping the unnecessary column\n",
    "#X_test_imputed = X_test_imputed.drop('Unnamed: 0', axis=1)"
   ]
  },
  {
   "cell_type": "code",
   "execution_count": 207,
   "metadata": {
    "scrolled": true
   },
   "outputs": [
    {
     "data": {
      "text/plain": [
       "array([[ 3.00000000e+00,  4.00000000e+00,  0.00000000e+00, ...,\n",
       "        -4.91286970e+00,  1.00000000e+00,  1.97500000e+03],\n",
       "       [ 1.00000000e+01,  7.00000000e+00,  5.00000000e+00, ...,\n",
       "        -6.32049545e+00,  2.00000000e+02,  1.99000000e+03],\n",
       "       [ 0.00000000e+00,  0.00000000e+00,  0.00000000e+00, ...,\n",
       "        -4.82607390e+00,  1.00000000e+00,  1.96900000e+03],\n",
       "       ...,\n",
       "       [ 6.00000000e+00,  0.00000000e+00,  2.00000000e+00, ...,\n",
       "        -8.96132968e+00,  4.50000000e+01,  1.97800000e+03],\n",
       "       [ 0.00000000e+00,  0.00000000e+00,  0.00000000e+00, ...,\n",
       "        -4.56042380e+00,  1.00000000e+00,  2.00200000e+03],\n",
       "       [ 1.30000000e+01,  0.00000000e+00,  1.00000000e+00, ...,\n",
       "        -3.12816094e+00,  7.68397775e+02,  1.99628101e+03]])"
      ]
     },
     "execution_count": 207,
     "metadata": {},
     "output_type": "execute_result"
    }
   ],
   "source": [
    "X_test_imputed"
   ]
  },
  {
   "cell_type": "code",
   "execution_count": 208,
   "metadata": {},
   "outputs": [],
   "source": [
    "X_test_imputed = pd.DataFrame(X_test_imputed)"
   ]
  },
  {
   "cell_type": "code",
   "execution_count": 209,
   "metadata": {},
   "outputs": [],
   "source": [
    "#Renaming all the columns\n",
    "X_test_imputed.rename(columns={0: 'funder', 1: 'installer', 2: 'basin',\n",
    "                                  3: 'region', 4: 'region_code', 5: 'district_code',\n",
    "                                  6: 'public_meeting', 7: 'scheme_management', 8: 'permit',\n",
    "                                  9: 'extraction_type_class', 10: 'management', 11: 'management_group', 12: \n",
    "                                  'payment', 13: 'quality_group', 14: 'quantity', 15: 'source',\n",
    "                                  16: 'source_class', 17: 'waterpoint_type_group', 18: \n",
    "                                  'date_recorded', 19: 'gps_height', 20: 'longitude', 21: 'latitude', 22: 'population',\n",
    "                                  23: 'construction_year'}, inplace=True)"
   ]
  },
  {
   "cell_type": "markdown",
   "metadata": {},
   "source": [
    "### Using `revert_back_to_strings` Function for `X_test_imputed`"
   ]
  },
  {
   "cell_type": "code",
   "execution_count": 210,
   "metadata": {},
   "outputs": [
    {
     "data": {
      "text/html": [
       "<div>\n",
       "<style scoped>\n",
       "    .dataframe tbody tr th:only-of-type {\n",
       "        vertical-align: middle;\n",
       "    }\n",
       "\n",
       "    .dataframe tbody tr th {\n",
       "        vertical-align: top;\n",
       "    }\n",
       "\n",
       "    .dataframe thead th {\n",
       "        text-align: right;\n",
       "    }\n",
       "</style>\n",
       "<table border=\"1\" class=\"dataframe\">\n",
       "  <thead>\n",
       "    <tr style=\"text-align: right;\">\n",
       "      <th></th>\n",
       "      <th>funder</th>\n",
       "      <th>installer</th>\n",
       "      <th>basin</th>\n",
       "      <th>region</th>\n",
       "      <th>region_code</th>\n",
       "      <th>district_code</th>\n",
       "      <th>public_meeting</th>\n",
       "      <th>scheme_management</th>\n",
       "      <th>permit</th>\n",
       "      <th>extraction_type_class</th>\n",
       "      <th>...</th>\n",
       "      <th>quantity</th>\n",
       "      <th>source</th>\n",
       "      <th>source_class</th>\n",
       "      <th>waterpoint_type_group</th>\n",
       "      <th>date_recorded</th>\n",
       "      <th>gps_height</th>\n",
       "      <th>longitude</th>\n",
       "      <th>latitude</th>\n",
       "      <th>population</th>\n",
       "      <th>construction_year</th>\n",
       "    </tr>\n",
       "  </thead>\n",
       "  <tbody>\n",
       "    <tr>\n",
       "      <th>0</th>\n",
       "      <td>3.0</td>\n",
       "      <td>4.0</td>\n",
       "      <td>0.0</td>\n",
       "      <td>10.0</td>\n",
       "      <td>10.0</td>\n",
       "      <td>1.0</td>\n",
       "      <td>0.0</td>\n",
       "      <td>0.0</td>\n",
       "      <td>0.0</td>\n",
       "      <td>0.0</td>\n",
       "      <td>...</td>\n",
       "      <td>0.0</td>\n",
       "      <td>0.0</td>\n",
       "      <td>0.0</td>\n",
       "      <td>0.0</td>\n",
       "      <td>2011.0</td>\n",
       "      <td>1271.0</td>\n",
       "      <td>38.454767</td>\n",
       "      <td>-4.912870</td>\n",
       "      <td>1.000000</td>\n",
       "      <td>1975.00000</td>\n",
       "    </tr>\n",
       "    <tr>\n",
       "      <th>1</th>\n",
       "      <td>10.0</td>\n",
       "      <td>7.0</td>\n",
       "      <td>5.0</td>\n",
       "      <td>11.0</td>\n",
       "      <td>11.0</td>\n",
       "      <td>1.0</td>\n",
       "      <td>0.0</td>\n",
       "      <td>0.0</td>\n",
       "      <td>0.0</td>\n",
       "      <td>1.0</td>\n",
       "      <td>...</td>\n",
       "      <td>1.0</td>\n",
       "      <td>3.0</td>\n",
       "      <td>0.0</td>\n",
       "      <td>1.0</td>\n",
       "      <td>2013.0</td>\n",
       "      <td>1206.0</td>\n",
       "      <td>31.239516</td>\n",
       "      <td>-6.320495</td>\n",
       "      <td>200.000000</td>\n",
       "      <td>1990.00000</td>\n",
       "    </tr>\n",
       "    <tr>\n",
       "      <th>2</th>\n",
       "      <td>0.0</td>\n",
       "      <td>0.0</td>\n",
       "      <td>0.0</td>\n",
       "      <td>10.0</td>\n",
       "      <td>10.0</td>\n",
       "      <td>1.0</td>\n",
       "      <td>0.0</td>\n",
       "      <td>0.0</td>\n",
       "      <td>0.0</td>\n",
       "      <td>0.0</td>\n",
       "      <td>...</td>\n",
       "      <td>0.0</td>\n",
       "      <td>0.0</td>\n",
       "      <td>0.0</td>\n",
       "      <td>0.0</td>\n",
       "      <td>2011.0</td>\n",
       "      <td>1385.0</td>\n",
       "      <td>38.375156</td>\n",
       "      <td>-4.826074</td>\n",
       "      <td>1.000000</td>\n",
       "      <td>1969.00000</td>\n",
       "    </tr>\n",
       "    <tr>\n",
       "      <th>3</th>\n",
       "      <td>22.0</td>\n",
       "      <td>28.0</td>\n",
       "      <td>3.0</td>\n",
       "      <td>11.0</td>\n",
       "      <td>11.0</td>\n",
       "      <td>1.0</td>\n",
       "      <td>0.0</td>\n",
       "      <td>2.0</td>\n",
       "      <td>0.0</td>\n",
       "      <td>2.0</td>\n",
       "      <td>...</td>\n",
       "      <td>0.0</td>\n",
       "      <td>3.0</td>\n",
       "      <td>0.0</td>\n",
       "      <td>0.0</td>\n",
       "      <td>2013.0</td>\n",
       "      <td>769.0</td>\n",
       "      <td>30.404887</td>\n",
       "      <td>-6.738276</td>\n",
       "      <td>250.000000</td>\n",
       "      <td>2012.00000</td>\n",
       "    </tr>\n",
       "    <tr>\n",
       "      <th>4</th>\n",
       "      <td>1.0</td>\n",
       "      <td>10.0</td>\n",
       "      <td>2.0</td>\n",
       "      <td>1.0</td>\n",
       "      <td>1.0</td>\n",
       "      <td>1.0</td>\n",
       "      <td>0.0</td>\n",
       "      <td>0.0</td>\n",
       "      <td>0.0</td>\n",
       "      <td>0.0</td>\n",
       "      <td>...</td>\n",
       "      <td>0.0</td>\n",
       "      <td>0.0</td>\n",
       "      <td>0.0</td>\n",
       "      <td>0.0</td>\n",
       "      <td>2011.0</td>\n",
       "      <td>1257.0</td>\n",
       "      <td>35.806334</td>\n",
       "      <td>-7.447994</td>\n",
       "      <td>550.000000</td>\n",
       "      <td>1987.00000</td>\n",
       "    </tr>\n",
       "    <tr>\n",
       "      <th>...</th>\n",
       "      <td>...</td>\n",
       "      <td>...</td>\n",
       "      <td>...</td>\n",
       "      <td>...</td>\n",
       "      <td>...</td>\n",
       "      <td>...</td>\n",
       "      <td>...</td>\n",
       "      <td>...</td>\n",
       "      <td>...</td>\n",
       "      <td>...</td>\n",
       "      <td>...</td>\n",
       "      <td>...</td>\n",
       "      <td>...</td>\n",
       "      <td>...</td>\n",
       "      <td>...</td>\n",
       "      <td>...</td>\n",
       "      <td>...</td>\n",
       "      <td>...</td>\n",
       "      <td>...</td>\n",
       "      <td>...</td>\n",
       "      <td>...</td>\n",
       "    </tr>\n",
       "    <tr>\n",
       "      <th>7463</th>\n",
       "      <td>0.0</td>\n",
       "      <td>0.0</td>\n",
       "      <td>3.0</td>\n",
       "      <td>4.0</td>\n",
       "      <td>4.0</td>\n",
       "      <td>0.0</td>\n",
       "      <td>0.0</td>\n",
       "      <td>2.0</td>\n",
       "      <td>0.0</td>\n",
       "      <td>0.0</td>\n",
       "      <td>...</td>\n",
       "      <td>0.0</td>\n",
       "      <td>2.0</td>\n",
       "      <td>1.0</td>\n",
       "      <td>0.0</td>\n",
       "      <td>2013.0</td>\n",
       "      <td>1367.0</td>\n",
       "      <td>30.275490</td>\n",
       "      <td>-4.467188</td>\n",
       "      <td>450.000000</td>\n",
       "      <td>1996.00000</td>\n",
       "    </tr>\n",
       "    <tr>\n",
       "      <th>7464</th>\n",
       "      <td>3.0</td>\n",
       "      <td>6.0</td>\n",
       "      <td>6.0</td>\n",
       "      <td>1.0</td>\n",
       "      <td>1.0</td>\n",
       "      <td>2.0</td>\n",
       "      <td>0.0</td>\n",
       "      <td>0.0</td>\n",
       "      <td>1.0</td>\n",
       "      <td>0.0</td>\n",
       "      <td>...</td>\n",
       "      <td>0.0</td>\n",
       "      <td>0.0</td>\n",
       "      <td>0.0</td>\n",
       "      <td>0.0</td>\n",
       "      <td>2011.0</td>\n",
       "      <td>2102.0</td>\n",
       "      <td>34.250019</td>\n",
       "      <td>-9.365204</td>\n",
       "      <td>474.959475</td>\n",
       "      <td>1984.00000</td>\n",
       "    </tr>\n",
       "    <tr>\n",
       "      <th>7465</th>\n",
       "      <td>6.0</td>\n",
       "      <td>0.0</td>\n",
       "      <td>2.0</td>\n",
       "      <td>1.0</td>\n",
       "      <td>1.0</td>\n",
       "      <td>3.0</td>\n",
       "      <td>0.0</td>\n",
       "      <td>3.0</td>\n",
       "      <td>0.0</td>\n",
       "      <td>0.0</td>\n",
       "      <td>...</td>\n",
       "      <td>2.0</td>\n",
       "      <td>2.0</td>\n",
       "      <td>1.0</td>\n",
       "      <td>0.0</td>\n",
       "      <td>2011.0</td>\n",
       "      <td>1493.0</td>\n",
       "      <td>34.532889</td>\n",
       "      <td>-8.961330</td>\n",
       "      <td>45.000000</td>\n",
       "      <td>1978.00000</td>\n",
       "    </tr>\n",
       "    <tr>\n",
       "      <th>7466</th>\n",
       "      <td>0.0</td>\n",
       "      <td>0.0</td>\n",
       "      <td>0.0</td>\n",
       "      <td>10.0</td>\n",
       "      <td>10.0</td>\n",
       "      <td>1.0</td>\n",
       "      <td>0.0</td>\n",
       "      <td>0.0</td>\n",
       "      <td>0.0</td>\n",
       "      <td>0.0</td>\n",
       "      <td>...</td>\n",
       "      <td>0.0</td>\n",
       "      <td>0.0</td>\n",
       "      <td>0.0</td>\n",
       "      <td>0.0</td>\n",
       "      <td>2011.0</td>\n",
       "      <td>1790.0</td>\n",
       "      <td>38.205156</td>\n",
       "      <td>-4.560424</td>\n",
       "      <td>1.000000</td>\n",
       "      <td>2002.00000</td>\n",
       "    </tr>\n",
       "    <tr>\n",
       "      <th>7467</th>\n",
       "      <td>13.0</td>\n",
       "      <td>0.0</td>\n",
       "      <td>1.0</td>\n",
       "      <td>0.0</td>\n",
       "      <td>0.0</td>\n",
       "      <td>0.0</td>\n",
       "      <td>0.0</td>\n",
       "      <td>1.0</td>\n",
       "      <td>1.0</td>\n",
       "      <td>2.0</td>\n",
       "      <td>...</td>\n",
       "      <td>1.0</td>\n",
       "      <td>1.0</td>\n",
       "      <td>0.0</td>\n",
       "      <td>2.0</td>\n",
       "      <td>2012.0</td>\n",
       "      <td>0.0</td>\n",
       "      <td>33.742349</td>\n",
       "      <td>-3.128161</td>\n",
       "      <td>768.397775</td>\n",
       "      <td>1996.28101</td>\n",
       "    </tr>\n",
       "  </tbody>\n",
       "</table>\n",
       "<p>7468 rows × 24 columns</p>\n",
       "</div>"
      ],
      "text/plain": [
       "      funder  installer  basin  region  region_code  district_code  \\\n",
       "0        3.0        4.0    0.0    10.0         10.0            1.0   \n",
       "1       10.0        7.0    5.0    11.0         11.0            1.0   \n",
       "2        0.0        0.0    0.0    10.0         10.0            1.0   \n",
       "3       22.0       28.0    3.0    11.0         11.0            1.0   \n",
       "4        1.0       10.0    2.0     1.0          1.0            1.0   \n",
       "...      ...        ...    ...     ...          ...            ...   \n",
       "7463     0.0        0.0    3.0     4.0          4.0            0.0   \n",
       "7464     3.0        6.0    6.0     1.0          1.0            2.0   \n",
       "7465     6.0        0.0    2.0     1.0          1.0            3.0   \n",
       "7466     0.0        0.0    0.0    10.0         10.0            1.0   \n",
       "7467    13.0        0.0    1.0     0.0          0.0            0.0   \n",
       "\n",
       "      public_meeting  scheme_management  permit  extraction_type_class  ...  \\\n",
       "0                0.0                0.0     0.0                    0.0  ...   \n",
       "1                0.0                0.0     0.0                    1.0  ...   \n",
       "2                0.0                0.0     0.0                    0.0  ...   \n",
       "3                0.0                2.0     0.0                    2.0  ...   \n",
       "4                0.0                0.0     0.0                    0.0  ...   \n",
       "...              ...                ...     ...                    ...  ...   \n",
       "7463             0.0                2.0     0.0                    0.0  ...   \n",
       "7464             0.0                0.0     1.0                    0.0  ...   \n",
       "7465             0.0                3.0     0.0                    0.0  ...   \n",
       "7466             0.0                0.0     0.0                    0.0  ...   \n",
       "7467             0.0                1.0     1.0                    2.0  ...   \n",
       "\n",
       "      quantity  source  source_class  waterpoint_type_group  date_recorded  \\\n",
       "0          0.0     0.0           0.0                    0.0         2011.0   \n",
       "1          1.0     3.0           0.0                    1.0         2013.0   \n",
       "2          0.0     0.0           0.0                    0.0         2011.0   \n",
       "3          0.0     3.0           0.0                    0.0         2013.0   \n",
       "4          0.0     0.0           0.0                    0.0         2011.0   \n",
       "...        ...     ...           ...                    ...            ...   \n",
       "7463       0.0     2.0           1.0                    0.0         2013.0   \n",
       "7464       0.0     0.0           0.0                    0.0         2011.0   \n",
       "7465       2.0     2.0           1.0                    0.0         2011.0   \n",
       "7466       0.0     0.0           0.0                    0.0         2011.0   \n",
       "7467       1.0     1.0           0.0                    2.0         2012.0   \n",
       "\n",
       "      gps_height  longitude  latitude  population  construction_year  \n",
       "0         1271.0  38.454767 -4.912870    1.000000         1975.00000  \n",
       "1         1206.0  31.239516 -6.320495  200.000000         1990.00000  \n",
       "2         1385.0  38.375156 -4.826074    1.000000         1969.00000  \n",
       "3          769.0  30.404887 -6.738276  250.000000         2012.00000  \n",
       "4         1257.0  35.806334 -7.447994  550.000000         1987.00000  \n",
       "...          ...        ...       ...         ...                ...  \n",
       "7463      1367.0  30.275490 -4.467188  450.000000         1996.00000  \n",
       "7464      2102.0  34.250019 -9.365204  474.959475         1984.00000  \n",
       "7465      1493.0  34.532889 -8.961330   45.000000         1978.00000  \n",
       "7466      1790.0  38.205156 -4.560424    1.000000         2002.00000  \n",
       "7467         0.0  33.742349 -3.128161  768.397775         1996.28101  \n",
       "\n",
       "[7468 rows x 24 columns]"
      ]
     },
     "execution_count": 210,
     "metadata": {},
     "output_type": "execute_result"
    }
   ],
   "source": [
    "#X_test_imputed = revert_back_to_strings(X_test_imputed, revert_columns)\n",
    "X_test_imputed"
   ]
  },
  {
   "cell_type": "markdown",
   "metadata": {},
   "source": [
    "## Modeling"
   ]
  },
  {
   "cell_type": "code",
   "execution_count": 211,
   "metadata": {},
   "outputs": [],
   "source": [
    "#Imports for modeling\n",
    "from sklearn.preprocessing import normalize\n",
    "from sklearn.linear_model import LinearRegression, LogisticRegression\n",
    "from sklearn.metrics import log_loss\n",
    "from sklearn.preprocessing import StandardScaler\n",
    "from sklearn.metrics import accuracy_score, recall_score, precision_score, f1_score\n",
    "from sklearn.metrics import plot_confusion_matrix, make_scorer\n",
    "from sklearn.metrics import roc_auc_score, plot_roc_curve\n",
    "from sklearn.model_selection import cross_val_score\n",
    "from sklearn.metrics import classification_report\n",
    "from sklearn.model_selection import GridSearchCV\n",
    "from sklearn.metrics import roc_auc_score, plot_roc_curve"
   ]
  },
  {
   "cell_type": "code",
   "execution_count": 213,
   "metadata": {},
   "outputs": [],
   "source": [
    "#Instante 'StandardScaler', fit and transform the X data.\n",
    "ss = StandardScaler()\n",
    "X_train_imputed_sc = ss.fit_transform(X_train_imputed)\n",
    "X_test_imputed_sc = ss.transform(X_test_imputed)"
   ]
  },
  {
   "cell_type": "code",
   "execution_count": 214,
   "metadata": {},
   "outputs": [
    {
     "data": {
      "text/plain": [
       "LogisticRegression(random_state=33)"
      ]
     },
     "execution_count": 214,
     "metadata": {},
     "output_type": "execute_result"
    }
   ],
   "source": [
    "#Instantiate basline Logistic Regression model\n",
    "logreg = LogisticRegression(random_state=33)\n",
    "logreg.fit(X_train_imputed_sc, y_train)"
   ]
  },
  {
   "cell_type": "code",
   "execution_count": 215,
   "metadata": {},
   "outputs": [
    {
     "data": {
      "image/png": "[encoded data removed]",
      "text/plain": [
       "<Figure size 432x288 with 2 Axes>"
      ]
     },
     "metadata": {
      "needs_background": "light"
     },
     "output_type": "display_data"
    }
   ],
   "source": [
    "#Plot confusion matrix\n",
    "plot_confusion_matrix(logreg, X_test_imputed_sc, y_test, \n",
    "                      display_labels=['Operational', 'Non-Operational']);"
   ]
  },
  {
   "cell_type": "code",
   "execution_count": 216,
   "metadata": {},
   "outputs": [
    {
     "data": {
      "text/plain": [
       "0.7274149393820883"
      ]
     },
     "execution_count": 216,
     "metadata": {},
     "output_type": "execute_result"
    }
   ],
   "source": [
    "#Precision score using y_test predictions\n",
    "y_test_pred = logreg.predict(X_test_imputed_sc)\n",
    "#Using 'pos_label' bc positive variable corresponds to '0' not '1'\n",
    "precision_score(y_test, y_test_pred, pos_label=0)"
   ]
  },
  {
   "cell_type": "code",
   "execution_count": 217,
   "metadata": {},
   "outputs": [],
   "source": [
    "#Instantiate new scorer using 'make_scorer'\n",
    "scorer = make_scorer(precision_score, pos_label=0)"
   ]
  },
  {
   "cell_type": "code",
   "execution_count": 222,
   "metadata": {},
   "outputs": [],
   "source": [
    "#Instantiate 'GridSearchCV' and list of parameters\n",
    "param_grid = {\n",
    "    'C': [0.1, 1, 10, 100, 1000], \n",
    "    'solver' : ['lbfgs', 'liblinear', 'sag', 'saga'],\n",
    "    'max_iter' : [100000],    \n",
    "}\n",
    "clf = GridSearchCV(logreg, param_grid, cv=5, scoring=scorer)"
   ]
  },
  {
   "cell_type": "code",
   "execution_count": 223,
   "metadata": {},
   "outputs": [
    {
     "name": "stdout",
     "output_type": "stream",
     "text": [
      "{'C': 100, 'max_iter': 100000, 'solver': 'lbfgs'}\n"
     ]
    }
   ],
   "source": [
    "#Fit the grid search to our training data\n",
    "clf.fit(X_train_imputed_sc, y_train)\n",
    "print(clf.best_params_)"
   ]
  },
  {
   "cell_type": "code",
   "execution_count": 224,
   "metadata": {},
   "outputs": [
    {
     "data": {
      "text/plain": [
       "LogisticRegression(C=100, max_iter=100000, random_state=33)"
      ]
     },
     "execution_count": 224,
     "metadata": {},
     "output_type": "execute_result"
    }
   ],
   "source": [
    "#Pass in the best parameters to new logistic regression \n",
    "logreg2 = LogisticRegression(random_state=33, C = 100, max_iter = 100000, solver= 'lbfgs' )\n",
    "\n",
    "#Fit the new model to training data\n",
    "logreg2.fit(X_train_imputed_sc, y_train)"
   ]
  },
  {
   "cell_type": "code",
   "execution_count": 225,
   "metadata": {},
   "outputs": [
    {
     "data": {
      "text/plain": [
       "array([0.74541485, 0.74681393, 0.74935177, 0.74668945, 0.75163399])"
      ]
     },
     "execution_count": 225,
     "metadata": {},
     "output_type": "execute_result"
    }
   ],
   "source": [
    "#Use 'cross_val_score' on training data to return corresponding precision score\n",
    "cv_results = cross_val_score(estimator=logreg2, X=X_train_imputed_sc, y=y_train, cv=5, scoring=scorer)\n",
    "cv_results"
   ]
  },
  {
   "cell_type": "code",
   "execution_count": 226,
   "metadata": {},
   "outputs": [
    {
     "data": {
      "text/plain": [
       "0.7279670975323149"
      ]
     },
     "execution_count": 226,
     "metadata": {},
     "output_type": "execute_result"
    }
   ],
   "source": [
    "#Precision score using test data and test predictions\n",
    "y_test_pred = logreg2.predict(X_test_imputed_sc)\n",
    "precision_score(y_test, y_test_pred, pos_label=0)"
   ]
  },
  {
   "cell_type": "code",
   "execution_count": 227,
   "metadata": {},
   "outputs": [
    {
     "name": "stdout",
     "output_type": "stream",
     "text": [
      "              precision    recall  f1-score   support\n",
      "\n",
      "           0       0.73      0.84      0.78      4422\n",
      "           1       0.70      0.54      0.61      3046\n",
      "\n",
      "    accuracy                           0.72      7468\n",
      "   macro avg       0.71      0.69      0.70      7468\n",
      "weighted avg       0.72      0.72      0.71      7468\n",
      "\n"
     ]
    }
   ],
   "source": [
    "#Use 'calassification_report' to summarize our scores\n",
    "print(classification_report(y_test, y_test_pred))"
   ]
  },
  {
   "cell_type": "code",
   "execution_count": 228,
   "metadata": {},
   "outputs": [
    {
     "data": {
      "text/plain": [
       "0.7626597953941865"
      ]
     },
     "execution_count": 228,
     "metadata": {},
     "output_type": "execute_result"
    }
   ],
   "source": [
    "#Predict our test probabilities\n",
    "probas = logreg2.predict_proba(X_test_imputed_sc)[:, 1]\n",
    "#Return the roc-auc score\n",
    "roc_auc_score(y_test, probas)"
   ]
  },
  {
   "cell_type": "code",
   "execution_count": 229,
   "metadata": {},
   "outputs": [
    {
     "data": {
      "image/png": "[encoded data removed]",
      "text/plain": [
       "<Figure size 432x288 with 1 Axes>"
      ]
     },
     "metadata": {
      "needs_background": "light"
     },
     "output_type": "display_data"
    }
   ],
   "source": [
    "#Plot the ROC curve\n",
    "plot_roc_curve(logreg2, X_test_imputed_sc, y_test);"
   ]
  },
  {
   "cell_type": "code",
   "execution_count": null,
   "metadata": {},
   "outputs": [],
   "source": []
  }
 ],
 "metadata": {
  "kernelspec": {
   "display_name": "Python (learn-env)",
   "language": "python",
   "name": "learn-env"
  },
  "language_info": {
   "codemirror_mode": {
    "name": "ipython",
    "version": 3
   },
   "file_extension": ".py",
   "mimetype": "text/x-python",
   "name": "python",
   "nbconvert_exporter": "python",
   "pygments_lexer": "ipython3",
   "version": "3.8.5"
  }
 },
 "nbformat": 4,
 "nbformat_minor": 4
}
